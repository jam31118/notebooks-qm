{
 "cells": [
  {
   "cell_type": "code",
   "execution_count": 1,
   "metadata": {},
   "outputs": [],
   "source": [
    "%matplotlib inline\n",
    "import matplotlib.pyplot as plt\n",
    "import numpy as np"
   ]
  },
  {
   "cell_type": "code",
   "execution_count": 2,
   "metadata": {},
   "outputs": [
    {
     "name": "stderr",
     "output_type": "stream",
     "text": [
      "/home/seongjin/HazaPython/venv01/lib/python3.5/site-packages/ipykernel_launcher.py:2: RuntimeWarning: invalid value encountered in sqrt\n",
      "  \n"
     ]
    },
    {
     "data": {
      "text/plain": [
       "nan"
      ]
     },
     "execution_count": 2,
     "metadata": {},
     "output_type": "execute_result"
    }
   ],
   "source": [
    "np.sqrt(-1+0j)\n",
    "np.sqrt(-1) # doesn't work since the input is of type float which corresponds to a real value (not complex)"
   ]
  },
  {
   "cell_type": "code",
   "execution_count": 3,
   "metadata": {},
   "outputs": [],
   "source": [
    "def get_k(energy, constant_potential):\n",
    "    m, hbar = 1.0, 1.0  # using atomic unit\n",
    "    E, V0 = energy, constant_potential  # aliasing for convenience\n",
    "    k = np.sqrt(2*m*(E-V0)+0j) / hbar\n",
    "    return k\n",
    "\n",
    "def f(x, energy, constant_potential):\n",
    "    k = get_k(energy, constant_potential)\n",
    "    f_val = np.exp(1.0j * k * x)\n",
    "    return f_val, k\n",
    "    \n",
    "# def df(x, energy, constant_potential):\n",
    "#     k = get_k(energy, constant_potential)\n",
    "#     f_val = f(x, energy, constant_potential)\n",
    "#     df_val = f_val * 1.0j * k\n",
    "#     return df_val"
   ]
  },
  {
   "cell_type": "code",
   "execution_count": 4,
   "metadata": {},
   "outputs": [],
   "source": [
    "from numbers import Integral\n",
    "\n",
    "def sol(x, energy, constant_potential, sol_index, diff_number):\n",
    "    for int_args in [sol_index, diff_number]: assert isinstance(int_args, Integral)\n",
    "    assert sol_index in [1, 2]\n",
    "    assert diff_number >= 0\n",
    "    \n",
    "    f_val, k = f(x, energy, constant_potential)\n",
    "    f_val *= (1.0j * k) ** diff_number\n",
    "    if sol_index == 2: f_val **= -1\n",
    "    return f_val"
   ]
  },
  {
   "cell_type": "code",
   "execution_count": 5,
   "metadata": {},
   "outputs": [],
   "source": [
    "from numbers import Number\n",
    "\n",
    "def W(x, energy, constant_potential):\n",
    "    assert isinstance(x, Number)\n",
    "    wronskian = np.empty((2,2), dtype=complex)\n",
    "    for idx0, diff_number in enumerate([0,1]):\n",
    "        for idx1, sol_index in enumerate([1,2]):\n",
    "            wronskian[idx0, idx1] = sol(x, energy, constant_potential, sol_index, diff_number)\n",
    "    return wronskian"
   ]
  },
  {
   "cell_type": "code",
   "execution_count": 6,
   "metadata": {},
   "outputs": [
    {
     "data": {
      "text/plain": [
       "array([[ 0.9016556 +0.43245484j,  0.9016556 -0.43245484j],\n",
       "       [-0.19339968+0.40323264j, -0.96699842-2.0161632j ]])"
      ]
     },
     "execution_count": 6,
     "metadata": {},
     "output_type": "execute_result"
    }
   ],
   "source": [
    "W(1.0, 0.6, 0.5)"
   ]
  },
  {
   "cell_type": "markdown",
   "metadata": {},
   "source": [
    "### Test plotting"
   ]
  },
  {
   "cell_type": "code",
   "execution_count": 7,
   "metadata": {},
   "outputs": [],
   "source": [
    "x = np.linspace(-2,2,100)"
   ]
  },
  {
   "cell_type": "code",
   "execution_count": 8,
   "metadata": {},
   "outputs": [],
   "source": [
    "f_val, k = f(x, 0.6, 1.0)\n",
    "# df_val = df(x, 0.6, 1.0)\n",
    "f_val_sol = sol(x, 0.6, 1.0, 1, 0)"
   ]
  },
  {
   "cell_type": "code",
   "execution_count": 9,
   "metadata": {},
   "outputs": [
    {
     "data": {
      "text/plain": [
       "[<matplotlib.lines.Line2D at 0x7fc143bf1748>]"
      ]
     },
     "execution_count": 9,
     "metadata": {},
     "output_type": "execute_result"
    },
    {
     "data": {
      "image/png": "[encoded data removed]",
      "text/plain": [
       "<Figure size 432x288 with 1 Axes>"
      ]
     },
     "metadata": {},
     "output_type": "display_data"
    }
   ],
   "source": [
    "fig, ax = plt.subplots()\n",
    "ax.plot(x,f_val.real)\n",
    "# ax.plot(x,df_val.real)\n",
    "ax.plot(x,f_val.imag)\n",
    "ax.plot(x,f_val_sol.real)"
   ]
  },
  {
   "cell_type": "markdown",
   "metadata": {},
   "source": [
    "# Step potential"
   ]
  },
  {
   "cell_type": "markdown",
   "metadata": {},
   "source": [
    "### Set free variable"
   ]
  },
  {
   "cell_type": "code",
   "execution_count": 10,
   "metadata": {},
   "outputs": [],
   "source": [
    "A2, B2 = 1, 0"
   ]
  },
  {
   "cell_type": "code",
   "execution_count": 11,
   "metadata": {},
   "outputs": [],
   "source": [
    "E, V0 = 1.5, 1.0"
   ]
  },
  {
   "cell_type": "code",
   "execution_count": 12,
   "metadata": {},
   "outputs": [],
   "source": [
    "x_alpha = 0.4"
   ]
  },
  {
   "cell_type": "code",
   "execution_count": 13,
   "metadata": {},
   "outputs": [],
   "source": [
    "W1 = W(x_alpha, E, 0.0)\n",
    "W2 = W(x_alpha, E, V0)"
   ]
  },
  {
   "cell_type": "code",
   "execution_count": 14,
   "metadata": {},
   "outputs": [],
   "source": [
    "b = W2 @ [A2, B2]"
   ]
  },
  {
   "cell_type": "code",
   "execution_count": 15,
   "metadata": {},
   "outputs": [],
   "source": [
    "A1, B1 = np.linalg.solve(W1, b)"
   ]
  },
  {
   "cell_type": "code",
   "execution_count": 16,
   "metadata": {},
   "outputs": [],
   "source": [
    "x_arr = np.linspace(-15,15,1000)\n",
    "x_1 = x_arr[x_arr < x_alpha]\n",
    "x_2 = x_arr[x_arr >= x_alpha]"
   ]
  },
  {
   "cell_type": "code",
   "execution_count": 17,
   "metadata": {},
   "outputs": [],
   "source": [
    "psi_1 = A1 * sol(x_1, E, 0.0, 1, 0) + B1 * sol(x_1, E, 0.0, 2, 0)\n",
    "psi_2 = A2 * sol(x_2, E, V0, 1, 0) + B2 * sol(x_2, E, V0, 2, 0)"
   ]
  },
  {
   "cell_type": "code",
   "execution_count": 18,
   "metadata": {},
   "outputs": [
    {
     "data": {
      "text/plain": [
       "[<matplotlib.lines.Line2D at 0x7fc143be2d30>]"
      ]
     },
     "execution_count": 18,
     "metadata": {},
     "output_type": "execute_result"
    },
    {
     "data": {
      "image/png": "[encoded data removed]",
      "text/plain": [
       "<Figure size 432x288 with 1 Axes>"
      ]
     },
     "metadata": {},
     "output_type": "display_data"
    }
   ],
   "source": [
    "fig, ax = plt.subplots()\n",
    "ax.plot(x_1, psi_1.real)\n",
    "ax.plot(x_2, psi_2.real)"
   ]
  },
  {
   "cell_type": "code",
   "execution_count": 19,
   "metadata": {},
   "outputs": [],
   "source": [
    "#fig.savefig('step-pot-using-wronskian-A2-1-B2-0.png')"
   ]
  }
 ],
 "metadata": {
  "kernelspec": {
   "display_name": "Python 3",
   "language": "python",
   "name": "python3"
  },
  "language_info": {
   "codemirror_mode": {
    "name": "ipython",
    "version": 3
   },
   "file_extension": ".py",
   "mimetype": "text/x-python",
   "name": "python",
   "nbconvert_exporter": "python",
   "pygments_lexer": "ipython3",
   "version": "3.5.2"
  }
 },
 "nbformat": 4,
 "nbformat_minor": 2
}
