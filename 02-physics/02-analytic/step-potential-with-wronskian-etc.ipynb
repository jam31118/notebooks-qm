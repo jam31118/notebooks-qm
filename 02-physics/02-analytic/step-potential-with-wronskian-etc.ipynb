{
 "cells": [
  {
   "cell_type": "code",
   "execution_count": 1,
   "metadata": {},
   "outputs": [],
   "source": [
    "%matplotlib inline\n",
    "import matplotlib.pyplot as plt\n",
    "import numpy as np"
   ]
  },
  {
   "cell_type": "code",
   "execution_count": 2,
   "metadata": {},
   "outputs": [
    {
     "data": {
      "text/plain": [
       "1j"
      ]
     },
     "execution_count": 2,
     "metadata": {},
     "output_type": "execute_result"
    }
   ],
   "source": [
    "np.sqrt(-1+0j)\n",
    "\n",
    "## The following doesn't work since the input is of type float \n",
    "## which corresponds to a real value (not complex)\n",
    "# np.sqrt(-1)"
   ]
  },
  {
   "cell_type": "code",
   "execution_count": 3,
   "metadata": {},
   "outputs": [],
   "source": [
    "def get_k(energy, constant_potential):\n",
    "    \"\"\"Return k == \\sqrt{2m(E-V0)}/hbar for constant potential V0\"\"\"\n",
    "    m, hbar = 1.0, 1.0  # using atomic unit\n",
    "    E, V0 = energy, constant_potential  # aliasing for convenience\n",
    "    k = np.sqrt(2*m*(E-V0)+0j) / hbar\n",
    "    return k\n",
    "\n",
    "def f(x, energy, constant_potential):\n",
    "    \"\"\"Return one solution of time-independent schrödinger equation for a given constant potential\n",
    "    \n",
    "    Corresponding k == \\sqrt{2m(E-V0)}/hbar is the second return value.\n",
    "    \n",
    "    The solution is returned in a form of exponential.\n",
    "    Thus, the other linearly independent solution can be obtained by inverting its solution\n",
    "    Namely, letting `f1` the solution obtained by this method, \n",
    "    the other linearly independet solution is `1 / f1`\n",
    "    \"\"\"\n",
    "    k = get_k(energy, constant_potential)\n",
    "    f_val = np.exp(1.0j * k * x)\n",
    "    return f_val, k"
   ]
  },
  {
   "cell_type": "code",
   "execution_count": 4,
   "metadata": {},
   "outputs": [],
   "source": [
    "from numbers import Integral\n",
    "\n",
    "def sol(x, energy, constant_potential, sol_index, diff_number):\n",
    "    for int_args in [sol_index, diff_number]: assert isinstance(int_args, Integral)\n",
    "    assert sol_index in [1, 2]\n",
    "    # [180423 NOTE] `diff_number` can also be negative, representing integral\n",
    "    # assert diff_number >= 0\n",
    "    \n",
    "    f_val, k = f(x, energy, constant_potential)\n",
    "    diff_factor = None\n",
    "    if sol_index == 1: diff_factor = 1.0j * k\n",
    "    elif sol_index == 2:\n",
    "        f_val **= -1\n",
    "        diff_factor = - 1.0j * k\n",
    "    else: raise Exception(\"Unexpected solution index: {0}\".format(sol_index))\n",
    "    f_val *= diff_factor ** diff_number\n",
    "    return f_val"
   ]
  },
  {
   "cell_type": "code",
   "execution_count": 5,
   "metadata": {},
   "outputs": [],
   "source": [
    "from numbers import Number\n",
    "\n",
    "def W(x, energy, constant_potential):\n",
    "    \"\"\"Calculate Wronskian matrix for two solutions under given constant potential\"\"\"\n",
    "    assert isinstance(x, Number)\n",
    "    wronskian = np.empty((2,2), dtype=complex)\n",
    "    for idx0, diff_number in enumerate([0,1]):\n",
    "        for idx1, sol_index in enumerate([1,2]):\n",
    "            wronskian[idx0, idx1] = sol(x, energy, constant_potential, sol_index, diff_number)\n",
    "    return wronskian"
   ]
  },
  {
   "cell_type": "markdown",
   "metadata": {},
   "source": [
    "### Test plotting"
   ]
  },
  {
   "cell_type": "code",
   "execution_count": 6,
   "metadata": {},
   "outputs": [],
   "source": [
    "x = np.linspace(-2,2,100)"
   ]
  },
  {
   "cell_type": "code",
   "execution_count": 7,
   "metadata": {},
   "outputs": [],
   "source": [
    "f_val, k = f(x, 0.6, 1.0)\n",
    "f_val_sol = sol(x, 0.6, 1.0, 1, 0)"
   ]
  },
  {
   "cell_type": "code",
   "execution_count": 8,
   "metadata": {},
   "outputs": [
    {
     "data": {
      "text/plain": [
       "[<matplotlib.lines.Line2D at 0x7efbd36413c8>]"
      ]
     },
     "execution_count": 8,
     "metadata": {},
     "output_type": "execute_result"
    },
    {
     "data": {
      "image/png": "[encoded data removed]",
      "text/plain": [
       "<Figure size 720x216 with 2 Axes>"
      ]
     },
     "metadata": {},
     "output_type": "display_data"
    }
   ],
   "source": [
    "fig, axes = plt.subplots(1,2, figsize=(10,3))\n",
    "axes[0].plot(x,f_val.real)\n",
    "axes[0].plot(x,f_val.imag)\n",
    "axes[1].plot(x,f_val_sol.real)\n",
    "axes[1].plot(x,f_val_sol.imag)"
   ]
  },
  {
   "cell_type": "markdown",
   "metadata": {},
   "source": [
    "# Step potential"
   ]
  },
  {
   "cell_type": "markdown",
   "metadata": {},
   "source": [
    "### Set free variables (coefficients)"
   ]
  },
  {
   "cell_type": "code",
   "execution_count": 9,
   "metadata": {},
   "outputs": [],
   "source": [
    "A2, B2 = 1, 0"
   ]
  },
  {
   "cell_type": "markdown",
   "metadata": {},
   "source": [
    "### Set system variables"
   ]
  },
  {
   "cell_type": "code",
   "execution_count": 10,
   "metadata": {},
   "outputs": [],
   "source": [
    "E, V0 = 1.5, 1.0  # total energy / constant potential energy"
   ]
  },
  {
   "cell_type": "code",
   "execution_count": 11,
   "metadata": {},
   "outputs": [],
   "source": [
    "x1 = 3  # boundary coordinate"
   ]
  },
  {
   "cell_type": "markdown",
   "metadata": {},
   "source": [
    "### Solve for coefficients"
   ]
  },
  {
   "cell_type": "code",
   "execution_count": 12,
   "metadata": {},
   "outputs": [],
   "source": [
    "W1 = W(x1, E, 0.0)\n",
    "W2 = W(x1, E, V0)"
   ]
  },
  {
   "cell_type": "code",
   "execution_count": 13,
   "metadata": {},
   "outputs": [],
   "source": [
    "b = W2 @ [A2, B2]"
   ]
  },
  {
   "cell_type": "code",
   "execution_count": 14,
   "metadata": {},
   "outputs": [],
   "source": [
    "A1, B1 = np.linalg.solve(W1, b)"
   ]
  },
  {
   "cell_type": "code",
   "execution_count": 15,
   "metadata": {},
   "outputs": [],
   "source": [
    "x_arr = np.linspace(-15,15,1000)\n",
    "x_I0 = x_arr[x_arr < x1]\n",
    "x_I1 = x_arr[x_arr >= x1]"
   ]
  },
  {
   "cell_type": "code",
   "execution_count": 16,
   "metadata": {},
   "outputs": [],
   "source": [
    "psi_1 = A1 * sol(x_I0, E, 0.0, 1, 0) + B1 * sol(x_I0, E, 0.0, 2, 0)\n",
    "psi_2 = A2 * sol(x_I1, E, V0, 1, 0) + B2 * sol(x_I1, E, V0, 2, 0)"
   ]
  },
  {
   "cell_type": "code",
   "execution_count": 17,
   "metadata": {},
   "outputs": [
    {
     "data": {
      "text/plain": [
       "[<matplotlib.lines.Line2D at 0x7efbd35bea90>]"
      ]
     },
     "execution_count": 17,
     "metadata": {},
     "output_type": "execute_result"
    },
    {
     "data": {
      "image/png": "[encoded data removed]",
      "text/plain": [
       "<Figure size 432x288 with 1 Axes>"
      ]
     },
     "metadata": {},
     "output_type": "display_data"
    }
   ],
   "source": [
    "fig, ax = plt.subplots()\n",
    "ax.plot(x_I0, psi_1.real)\n",
    "ax.plot(x_I1, psi_2.real)"
   ]
  },
  {
   "cell_type": "code",
   "execution_count": 18,
   "metadata": {},
   "outputs": [],
   "source": [
    "#fig.savefig('step-pot-using-wronskian-A2-1-B2-0.png')"
   ]
  },
  {
   "cell_type": "markdown",
   "metadata": {},
   "source": [
    "# [ Finite Barrier ]"
   ]
  },
  {
   "cell_type": "markdown",
   "metadata": {},
   "source": [
    "## Generating an image for finite barrier potential"
   ]
  },
  {
   "cell_type": "markdown",
   "metadata": {},
   "source": [
    "### Configure system parameters"
   ]
  },
  {
   "cell_type": "code",
   "execution_count": 19,
   "metadata": {},
   "outputs": [],
   "source": [
    "N_intervals = 3\n",
    "x_min = '-infinity'\n",
    "x_max = '+infinity'\n",
    "num_boundary_coords = N_intervals - 1\n",
    "if x_min != '-infinity': num_boundary_coords += 1\n",
    "if x_max != '+infinity': num_boundary_coords += 1\n",
    "boundary_coords = np.array([1,1.5])\n",
    "\n",
    "V0_array = np.array([0, 2, 0], dtype=float)\n",
    "\n",
    "assert V0_array.size == N_intervals\n",
    "assert boundary_coords.size == num_boundary_coords\n",
    "\n",
    "x_lim = (-25,25)\n",
    "for x_i in boundary_coords: assert (x_i > x_lim[0]) and (x_i < x_lim[1])"
   ]
  },
  {
   "cell_type": "markdown",
   "metadata": {},
   "source": [
    "### Configure plotting parameters"
   ]
  },
  {
   "cell_type": "markdown",
   "metadata": {},
   "source": [
    "##### data"
   ]
  },
  {
   "cell_type": "code",
   "execution_count": 20,
   "metadata": {},
   "outputs": [],
   "source": [
    "coords_in_fig = np.empty((N_intervals+1,), dtype=float)\n",
    "coords_in_fig[0], coords_in_fig[-1] = x_lim\n",
    "if num_boundary_coords == N_intervals - 1:\n",
    "    coords_in_fig[1:-1] = boundary_coords\n",
    "else: raise NotImplementedError()\n",
    "    \n",
    "assert coords_in_fig.size - 1 == V0_array.size"
   ]
  },
  {
   "cell_type": "markdown",
   "metadata": {},
   "source": [
    "##### appearence"
   ]
  },
  {
   "cell_type": "code",
   "execution_count": 21,
   "metadata": {},
   "outputs": [],
   "source": [
    "potential_line_color = (1,0,0,0.5)\n",
    "potential_dash_kwargs = {'color':(1,0,0,0.5), 'linestyle':':'}"
   ]
  },
  {
   "cell_type": "markdown",
   "metadata": {},
   "source": [
    "### Draw"
   ]
  },
  {
   "cell_type": "code",
   "execution_count": 22,
   "metadata": {},
   "outputs": [
    {
     "data": {
      "image/png": "[encoded data removed]",
      "text/plain": [
       "<Figure size 576x288 with 1 Axes>"
      ]
     },
     "metadata": {},
     "output_type": "display_data"
    }
   ],
   "source": [
    "fig, ax = plt.subplots(figsize=(8,4))\n",
    "\n",
    "ax.set_xlabel('x / a.u.')\n",
    "ax.set_ylabel('energy / a.u.')\n",
    "\n",
    "for idx in range(coords_in_fig.size - 1):\n",
    "    x_data = [coords_in_fig[idx], coords_in_fig[idx+1]]\n",
    "    y_data = [V0_array[idx], V0_array[idx]]\n",
    "    ax.plot(x_data, y_data, color=potential_line_color)\n",
    "    \n",
    "for idx in range(coords_in_fig.size - 2):\n",
    "    x_data = [coords_in_fig[idx+1]] * 2\n",
    "    y_data = [V0_array[idx], V0_array[idx+1]]\n",
    "    ax.plot(x_data, y_data, **potential_dash_kwargs)"
   ]
  },
  {
   "cell_type": "markdown",
   "metadata": {},
   "source": [
    "# Solve system of linear equations for unknown coefficients"
   ]
  },
  {
   "cell_type": "markdown",
   "metadata": {},
   "source": [
    "### Set energy"
   ]
  },
  {
   "cell_type": "code",
   "execution_count": 23,
   "metadata": {},
   "outputs": [],
   "source": [
    "E = 0.1"
   ]
  },
  {
   "cell_type": "markdown",
   "metadata": {},
   "source": [
    "### Set free coefficients"
   ]
  },
  {
   "cell_type": "code",
   "execution_count": 24,
   "metadata": {},
   "outputs": [],
   "source": [
    "coef_array = np.empty((N_intervals,2), dtype=complex)\n",
    "coef_array[0,:] = [1.5, 0]"
   ]
  },
  {
   "cell_type": "markdown",
   "metadata": {},
   "source": [
    "### Solve equations using matrix"
   ]
  },
  {
   "cell_type": "code",
   "execution_count": 25,
   "metadata": {},
   "outputs": [
    {
     "data": {
      "text/plain": [
       "array([1. , 1.5])"
      ]
     },
     "execution_count": 25,
     "metadata": {},
     "output_type": "execute_result"
    }
   ],
   "source": [
    "boundary_coords"
   ]
  },
  {
   "cell_type": "code",
   "execution_count": 26,
   "metadata": {},
   "outputs": [],
   "source": [
    "for idx in range(N_intervals - 1):\n",
    "    A = W(boundary_coords[idx], E, V0_array[idx+1])\n",
    "    b = W(boundary_coords[idx], E, V0_array[idx]) @ coef_array[idx,:]\n",
    "    coef_array[idx+1,:] = np.linalg.solve(A,b)"
   ]
  },
  {
   "cell_type": "code",
   "execution_count": 27,
   "metadata": {},
   "outputs": [
    {
     "data": {
      "text/plain": [
       "array([[ 1.5       +0.j        ,  0.        +0.j        ],\n",
       "       [ 5.27270735+1.18849624j,  0.08568011+0.06826155j],\n",
       "       [ 1.43366574-3.93577235j, -3.51691079+1.7108594j ]])"
      ]
     },
     "execution_count": 27,
     "metadata": {},
     "output_type": "execute_result"
    }
   ],
   "source": [
    "coef_array"
   ]
  },
  {
   "cell_type": "markdown",
   "metadata": {},
   "source": [
    "### Reconstruct solution"
   ]
  },
  {
   "cell_type": "code",
   "execution_count": 28,
   "metadata": {},
   "outputs": [
    {
     "data": {
      "text/plain": [
       "array([-25. ,   1. ,   1.5,  25. ])"
      ]
     },
     "execution_count": 28,
     "metadata": {},
     "output_type": "execute_result"
    }
   ],
   "source": [
    "coords_in_fig"
   ]
  },
  {
   "cell_type": "code",
   "execution_count": 29,
   "metadata": {},
   "outputs": [],
   "source": [
    "x_arr = np.linspace(*x_lim,1000)"
   ]
  },
  {
   "cell_type": "code",
   "execution_count": 30,
   "metadata": {},
   "outputs": [],
   "source": [
    "def linear_sum_sol_in_same_interval(x, energy, constant_potential, coefs, diff_number=0):\n",
    "    assert len(coefs) == 2\n",
    "    summed_sol = 0.0\n",
    "    for idx, sol_index in enumerate(range(1,len(coefs)+1)):\n",
    "        summed_sol += coefs[idx] * sol(x, energy, constant_potential, sol_index, diff_number)\n",
    "    return summed_sol"
   ]
  },
  {
   "cell_type": "code",
   "execution_count": 31,
   "metadata": {},
   "outputs": [],
   "source": [
    "from numbers import Integral, Number\n",
    "def global_sol(x, energy, V0_array, boundary_coords, coef_array, diff_number=0):\n",
    "    assert isinstance(diff_number, Integral)\n",
    "    assert isinstance(energy, Number)\n",
    "    assert isinstance(x, np.ndarray)\n",
    "    assert len(V0_array) == len(coef_array)\n",
    "    N_intervals = len(V0_array)\n",
    "    global_sol_array = np.empty_like(x, dtype=complex)\n",
    "    for idx in range(N_intervals):\n",
    "        x_interval_mask = None\n",
    "        if idx == 0: x_interval_mask = x < boundary_coords[idx]\n",
    "        elif idx == N_intervals - 1: x_interval_mask = x >= boundary_coords[N_intervals - 1 - 1]\n",
    "        else: x_interval_mask = (x >= boundary_coords[idx-1]) & (x < boundary_coords[idx])\n",
    "        x_interval = x[x_interval_mask]\n",
    "        global_sol_array[x_interval_mask] = linear_sum_sol_in_same_interval(\n",
    "            x_interval, energy, V0_array[idx], coef_array[idx,:], diff_number)\n",
    "    return global_sol_array"
   ]
  },
  {
   "cell_type": "code",
   "execution_count": 32,
   "metadata": {},
   "outputs": [],
   "source": [
    "sol_array = global_sol(x_arr, E, V0_array, boundary_coords, coef_array)"
   ]
  },
  {
   "cell_type": "code",
   "execution_count": 33,
   "metadata": {},
   "outputs": [
    {
     "data": {
      "text/plain": [
       "(-2, 3)"
      ]
     },
     "execution_count": 33,
     "metadata": {},
     "output_type": "execute_result"
    },
    {
     "data": {
      "image/png": "[encoded data removed]",
      "text/plain": [
       "<Figure size 720x288 with 2 Axes>"
      ]
     },
     "metadata": {},
     "output_type": "display_data"
    }
   ],
   "source": [
    "fig, axes = plt.subplots(1,2, figsize=(10,4))\n",
    "axes[0].plot(x_arr, sol_array.real)\n",
    "axes[0].plot(x_arr, sol_array.imag)\n",
    "\n",
    "axes[1].plot(x_arr, sol_array.real)\n",
    "axes[1].plot(x_arr, sol_array.imag)\n",
    "axes[1].set_xlim(-2,3)"
   ]
  },
  {
   "cell_type": "code",
   "execution_count": 34,
   "metadata": {},
   "outputs": [],
   "source": [
    "#fig.savefig('finite-potential-wall-example.png')"
   ]
  }
 ],
 "metadata": {
  "kernelspec": {
   "display_name": "Python 3",
   "language": "python",
   "name": "python3"
  },
  "language_info": {
   "codemirror_mode": {
    "name": "ipython",
    "version": 3
   },
   "file_extension": ".py",
   "mimetype": "text/x-python",
   "name": "python",
   "nbconvert_exporter": "python",
   "pygments_lexer": "ipython3",
   "version": "3.5.2"
  }
 },
 "nbformat": 4,
 "nbformat_minor": 2
}
