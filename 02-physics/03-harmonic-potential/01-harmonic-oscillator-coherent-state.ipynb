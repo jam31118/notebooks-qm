{
 "cells": [
  {
   "cell_type": "markdown",
   "metadata": {},
   "source": [
    "# Prerequisites\n",
    "\n",
    "### Know how to specifiy array elements using indexing (e.g. y[3], array[:,0])\n",
    "\n",
    "### Know how to draw some basic plots\n",
    "\n",
    "### Know how to make a simple animation with ffmpeg"
   ]
  },
  {
   "cell_type": "markdown",
   "metadata": {},
   "source": [
    "# Import required modules"
   ]
  },
  {
   "cell_type": "code",
   "execution_count": null,
   "metadata": {},
   "outputs": [],
   "source": [
    "%matplotlib inline\n",
    "\n",
    "import matplotlib.pyplot as plt\n",
    "\n",
    "import numpy as np"
   ]
  },
  {
   "cell_type": "markdown",
   "metadata": {},
   "source": [
    "# A particle in an infinite Potential Well ('box')"
   ]
  },
  {
   "cell_type": "markdown",
   "metadata": {},
   "source": [
    "### Because $V(x)=\\infty$ for $x<x_{min}$ and $x_{max}<x$\n",
    "### $\\psi(x_{min})=0$ and $\\psi(x_{max})=0$\n",
    "\n",
    "### Thus, we will only consider $\\psi$ values at 'inside': from $x_{min}+\\Delta{x}$ to $x_{max}-\\Delta{x}$"
   ]
  },
  {
   "cell_type": "markdown",
   "metadata": {},
   "source": [
    "## Configure spatial grid"
   ]
  },
  {
   "cell_type": "code",
   "execution_count": null,
   "metadata": {},
   "outputs": [],
   "source": [
    "## Parameters for spatial grid (specified by 'x', in this 1D model)\n",
    "N_x = 50   # number of grid points\n",
    "delta_x = 0.1   # grid interval (assuming equi-distanced grid)\n",
    "x_min = 0   # lower bound of potential well (it may be different from minimum value of spatial grid)"
   ]
  },
  {
   "cell_type": "markdown",
   "metadata": {},
   "source": [
    "### $x_{0}=x_{min}+\\Delta{x}$"
   ]
  },
  {
   "cell_type": "code",
   "execution_count": null,
   "metadata": {},
   "outputs": [],
   "source": [
    "x_0 = x_min + delta_x   # first element ('x[0]') of a spatial array ('x_array')"
   ]
  },
  {
   "cell_type": "markdown",
   "metadata": {},
   "source": [
    "### $x_{n} = x_0 + n\\Delta{x}$ where $n=0,1,2,...,N_{x}-1$"
   ]
  },
  {
   "cell_type": "code",
   "execution_count": null,
   "metadata": {},
   "outputs": [],
   "source": [
    "n = np.arange(N_x)   # n = [0, 1, 2, ... , N_x - 1]\n",
    "x_array = x_0 + n*delta_x"
   ]
  },
  {
   "cell_type": "markdown",
   "metadata": {},
   "source": [
    "### $x_{N_{x}-1}=x_{max}-\\Delta{x}$"
   ]
  },
  {
   "cell_type": "code",
   "execution_count": null,
   "metadata": {},
   "outputs": [],
   "source": [
    "x_max = x_array[N_x - 1] + delta_x"
   ]
  },
  {
   "cell_type": "markdown",
   "metadata": {},
   "source": [
    "### $box\\,size = x_{max} - x_{min}$"
   ]
  },
  {
   "cell_type": "code",
   "execution_count": null,
   "metadata": {},
   "outputs": [],
   "source": [
    "box_size = x_max - x_min"
   ]
  },
  {
   "cell_type": "markdown",
   "metadata": {},
   "source": [
    "## Configure potential function (array)"
   ]
  },
  {
   "cell_type": "markdown",
   "metadata": {},
   "source": [
    "#### Harmonic potential\n",
    "$V(x) = k(x-x_{mid})^2$"
   ]
  },
  {
   "cell_type": "code",
   "execution_count": null,
   "metadata": {},
   "outputs": [],
   "source": [
    "## Set potential energy array in position representation\n",
    "\n",
    "mid_x = 0.5 * (x_min + x_max)\n",
    "k = 1.0\n",
    "\n",
    "potential_energy_array = k * (x_array - mid_x)**2  # harmonic potential"
   ]
  },
  {
   "cell_type": "code",
   "execution_count": null,
   "metadata": {},
   "outputs": [],
   "source": [
    "plt.plot(x_array, potential_energy_array)"
   ]
  },
  {
   "cell_type": "markdown",
   "metadata": {},
   "source": [
    "# Construct Hamiltonian matrix"
   ]
  },
  {
   "cell_type": "code",
   "execution_count": null,
   "metadata": {},
   "outputs": [],
   "source": [
    "matrix_shape = [N_x, N_x]  # Think about why the matrix is N_x by N_x matrix"
   ]
  },
  {
   "cell_type": "markdown",
   "metadata": {},
   "source": [
    "## Construct Kinetic Energy matrix (KE)"
   ]
  },
  {
   "cell_type": "markdown",
   "metadata": {},
   "source": [
    "\\begin{equation}\n",
    "KE\n",
    "\\approx\n",
    "-\\frac{\\hbar^2}{2m}\n",
    "\\frac{1}{\\Delta{x}^2}\n",
    "\\begin{bmatrix}\n",
    "    -2 & 1 & 0 & \\dots & 0 & 0 & 0\\\\\n",
    "    1 & -2 & 1 & \\dots & 0 & 0 &0\\\\\n",
    "    0 & 1 & -2 & \\dots & 0 & 0 & 0\\\\\n",
    "    \\vdots & \\vdots & \\vdots & \\vdots & \\ddots & \\ddots & \\vdots \\\\\n",
    "    0 & 0 & 0 & \\dots & -2 & 1 & 0 \\\\\n",
    "    0 & 0 & 0 & \\dots & 1 & -2 & 1 \\\\\n",
    "    0 & 0 & 0 & \\dots & 0 & 1 & -2\n",
    "\\end{bmatrix}\n",
    "\\end{equation}"
   ]
  },
  {
   "cell_type": "code",
   "execution_count": null,
   "metadata": {},
   "outputs": [],
   "source": [
    "KE = np.zeros(matrix_shape)  # kinetic_energy_matrix\n",
    "\n",
    "# Using atomic unit system\n",
    "hbar = 1\n",
    "m = 1\n",
    "\n",
    "# Caclulate coefficient\n",
    "coefficient = - hbar**2 / (2 * m) * 1.0 / (delta_x**2)\n",
    "\n",
    "## Fill diagonal elements\n",
    "diagonal_element = - 2.0 * coefficient\n",
    "for i in range(N_x):\n",
    "    j = i\n",
    "    KE[i,j] = diagonal_element\n",
    "\n",
    "## Fill offdiagonal elements\n",
    "off_diagonal_element = 1.0 * coefficient\n",
    "# Fill lower-offdiagonal\n",
    "for i in range(1,N_x):\n",
    "    j = i - 1\n",
    "    KE[i,j] = off_diagonal_element\n",
    "\n",
    "# Fill upper-offdiagonal\n",
    "for i in range(0,N_x-1):\n",
    "    j = i + 1\n",
    "    KE[i,j] = off_diagonal_element"
   ]
  },
  {
   "cell_type": "markdown",
   "metadata": {},
   "source": [
    "## Construct potential energy matrix"
   ]
  },
  {
   "cell_type": "code",
   "execution_count": null,
   "metadata": {},
   "outputs": [],
   "source": [
    "PE = np.zeros(matrix_shape)  # potential_energy_matrix\n",
    "\n",
    "# fill diagonal\n",
    "for i in range(N_x):\n",
    "    PE[i,i] = potential_energy_array[i]"
   ]
  },
  {
   "cell_type": "markdown",
   "metadata": {},
   "source": [
    "## Construct Hamiltonian matrix"
   ]
  },
  {
   "cell_type": "code",
   "execution_count": null,
   "metadata": {},
   "outputs": [],
   "source": [
    "hamiltonian = KE + PE"
   ]
  },
  {
   "cell_type": "markdown",
   "metadata": {},
   "source": [
    "# Obtain eigenenergy and eigenvectors\n",
    "### We use numpy.linalg.eigh() function\n",
    "### This funciton returns the eigenvalues and eigenvectors of a Hermitian matrix"
   ]
  },
  {
   "cell_type": "code",
   "execution_count": null,
   "metadata": {},
   "outputs": [],
   "source": [
    "eigen_values, eigen_vectors = np.linalg.eigh(hamiltonian)"
   ]
  },
  {
   "cell_type": "markdown",
   "metadata": {},
   "source": [
    "# Time evolution"
   ]
  },
  {
   "cell_type": "markdown",
   "metadata": {},
   "source": [
    "## Prepare shifted ground state as an initial state\n",
    "Let $\\psi_{0}(x)$ be the ground state of the system. Then, let's define the initial state as a ground state which is shifted in a position space by $\\mu$\n",
    "\n",
    "\\begin{equation}\n",
    "\\psi(x,t_{0}) = \\psi_{0}(x-\\mu)\n",
    "\\end{equation}"
   ]
  },
  {
   "cell_type": "code",
   "execution_count": null,
   "metadata": {},
   "outputs": [],
   "source": [
    "test_psi = np.empty(N_x)\n",
    "\n",
    "N_shift = 5  # Shift by 'N_shift * delta_x'\n",
    "mu = N_shift * delta_x\n",
    "\n",
    "ground_state = eigen_vectors[:,0]\n",
    "test_psi[N_shift:] = ground_state[:-N_shift]\n",
    "test_psi[:N_shift] = 0"
   ]
  },
  {
   "cell_type": "markdown",
   "metadata": {},
   "source": [
    "### Plot the initial state"
   ]
  },
  {
   "cell_type": "code",
   "execution_count": null,
   "metadata": {},
   "outputs": [],
   "source": [
    "fig, ax = plt.subplots()\n",
    "\n",
    "ax.plot(x_array, test_psi, label=r'$\\psi_{0}(x-\\mu)$')\n",
    "ax.plot(x_array, ground_state, label=r'$\\psi_{0}(x)$')\n",
    "\n",
    "ax.legend()"
   ]
  },
  {
   "cell_type": "markdown",
   "metadata": {},
   "source": [
    "## Calculate components with energy eigenfunctions as basis"
   ]
  },
  {
   "cell_type": "code",
   "execution_count": null,
   "metadata": {},
   "outputs": [],
   "source": [
    "N_energy = eigen_values.size\n",
    "\n",
    "psi_in_energy_representation = np.zeros(N_energy)\n",
    "\n",
    "for idx in range(N_energy):\n",
    "    # Projection of 'test_psi' into each energy eigenvectors by using inner product\n",
    "    # trapezoidal integration with box boundary condition is used for the inner product\n",
    "    psi_in_energy_representation[idx] = (eigen_vectors[:,idx].conj() * test_psi).sum() * delta_x"
   ]
  },
  {
   "cell_type": "code",
   "execution_count": null,
   "metadata": {},
   "outputs": [],
   "source": [
    "fig, ax = plt.subplots()\n",
    "energy_index = np.arange(N_energy)\n",
    "energy_compotnent_sq = np.square(np.abs(psi_in_energy_representation))\n",
    "ax.plot(energy_index, energy_compotnent_sq)\n",
    "ax.set_xlabel('energy index')\n",
    "ax.set_ylabel('energy components')"
   ]
  },
  {
   "cell_type": "markdown",
   "metadata": {},
   "source": [
    "## Define temporal grid"
   ]
  },
  {
   "cell_type": "code",
   "execution_count": null,
   "metadata": {},
   "outputs": [],
   "source": [
    "## Parameters for temporal grid on which the wavefunction will be calculated.\n",
    "N_time = 100\n",
    "delta_t = 0.1\n",
    "t_0 = 0.0\n",
    "\n",
    "# Define temporal grid array\n",
    "t_k = t_0 + np.arange(N_time) * delta_t"
   ]
  },
  {
   "cell_type": "markdown",
   "metadata": {},
   "source": [
    "# Single summation is sufficient to obtain time-dependent solution\n",
    "\\begin{equation}\n",
    "\\psi(x_{n},t_{k})=\\sum_{j}{c_{j}\\psi_{j}\\left(x_{n}\\right)exp\\left({-iE_{j}t_{k}/\\hbar}\\right)}\n",
    "\\end{equation}"
   ]
  },
  {
   "cell_type": "code",
   "execution_count": null,
   "metadata": {},
   "outputs": [],
   "source": [
    "## Construct time dependent term array\n",
    "\n",
    "Eigen_values, T_k = np.meshgrid(eigen_values, t_k, indexing='ij')\n",
    "\n",
    "time_dependent_term = np.exp(-1.0j * Eigen_values * T_k)"
   ]
  },
  {
   "cell_type": "code",
   "execution_count": null,
   "metadata": {},
   "outputs": [],
   "source": [
    "# Sum up to get \\psi(x,t)\n",
    "# Here, einstein constraction function is used. Can also be seen as simple tensor network\n",
    "psi_x_t = np.einsum(eigen_vectors, [0,1], psi_in_energy_representation, [1], time_dependent_term, [1,2])"
   ]
  },
  {
   "cell_type": "code",
   "execution_count": null,
   "metadata": {},
   "outputs": [],
   "source": [
    "# A callable function is defined\n",
    "# This function will be used by 'Animate_1D' object to create an animation.\n",
    "# This function should get an integer and return a 1D array to be plotted\n",
    "\n",
    "def get_frame_data(i):\n",
    "    #return psi_x_t[:,i].real\n",
    "    return np.square(np.absolute(psi_x_t[:,i]))"
   ]
  },
  {
   "cell_type": "code",
   "execution_count": null,
   "metadata": {},
   "outputs": [],
   "source": [
    "from vis.ani import Animate_1D"
   ]
  },
  {
   "cell_type": "code",
   "execution_count": null,
   "metadata": {},
   "outputs": [],
   "source": [
    "fig_ani, ax_ani = plt.subplots(figsize=(10,5))\n",
    "\n",
    "ani = Animate_1D(x_array, get_frame_data, frames=len(t_k), fig=fig_ani, ax=ax_ani)\n",
    "\n",
    "ax_ani.set_xlim(x_min, x_max)\n",
    "ax_ani.set_xlabel('x [atomic unit]', fontsize='x-large')\n",
    "ax_ani.set_ylabel(r'$\\|psi(x,t)|^2$ [atomic unit]', fontsize='x-large')\n",
    "\n",
    "fig_ani.tight_layout()  # it makes the Axes fits into the Figure area"
   ]
  },
  {
   "cell_type": "code",
   "execution_count": null,
   "metadata": {},
   "outputs": [],
   "source": [
    "ani.show()"
   ]
  }
 ],
 "metadata": {
  "kernelspec": {
   "display_name": "Python 3",
   "language": "python",
   "name": "python3"
  },
  "language_info": {
   "codemirror_mode": {
    "name": "ipython",
    "version": 3
   },
   "file_extension": ".py",
   "mimetype": "text/x-python",
   "name": "python",
   "nbconvert_exporter": "python",
   "pygments_lexer": "ipython3",
   "version": "3.5.2"
  }
 },
 "nbformat": 4,
 "nbformat_minor": 2
}
