{
 "cells": [
  {
   "cell_type": "markdown",
   "metadata": {},
   "source": [
    "# Prerequisites\n",
    "\n",
    "### Know how to specifiy array elements using indexing (e.g. y[3], array[:,0])\n",
    "\n",
    "### Know how to draw some basic plots"
   ]
  },
  {
   "cell_type": "markdown",
   "metadata": {},
   "source": [
    "# Import required modules"
   ]
  },
  {
   "cell_type": "code",
   "execution_count": 1,
   "metadata": {},
   "outputs": [],
   "source": [
    "%matplotlib inline\n",
    "\n",
    "import matplotlib.pyplot as plt\n",
    "\n",
    "import numpy as np"
   ]
  },
  {
   "cell_type": "markdown",
   "metadata": {},
   "source": [
    "# A particle in a periodic box"
   ]
  },
  {
   "cell_type": "markdown",
   "metadata": {},
   "source": [
    "### A particle's state in a periodic box is described $\\psi$,\n",
    "### which satisfies a periodic boundary condition: $\\psi(x+L)=\\psi(x)$\n",
    "\n",
    "### Thus, we will only consider $\\psi$ values at $x_{min}=x_{0},\\,x_1,\\,...,\\,x_{N_{x}-2},\\,x_{N_{x}-1}=x_{max}-\\Delta{x}$\n",
    "### where $x_{max}=x_{min}+L$, thus $\\psi(x_{max})=\\psi(x_{min}+L)=\\psi(x_{min})$"
   ]
  },
  {
   "cell_type": "markdown",
   "metadata": {},
   "source": [
    "## Configure spatial grid"
   ]
  },
  {
   "cell_type": "code",
   "execution_count": 2,
   "metadata": {},
   "outputs": [],
   "source": [
    "## Parameters for spatial grid (specified by 'x', in this 1D model)\n",
    "N_x = 50   # number of grid points\n",
    "delta_x = 0.1   # grid interval (assuming equi-distanced grid)\n",
    "x_min = 0   # lower bound of potential well (it may be different from minimum value of spatial grid)"
   ]
  },
  {
   "cell_type": "markdown",
   "metadata": {},
   "source": [
    "### $x_{0}=x_{min}+\\Delta{x}$"
   ]
  },
  {
   "cell_type": "code",
   "execution_count": 3,
   "metadata": {},
   "outputs": [],
   "source": [
    "x_0 = x_min"
   ]
  },
  {
   "cell_type": "markdown",
   "metadata": {},
   "source": [
    "### $x_{n} = x_0 + n\\Delta{x}$ where $n=0,1,2,...,N_{x}-1$"
   ]
  },
  {
   "cell_type": "code",
   "execution_count": 4,
   "metadata": {},
   "outputs": [],
   "source": [
    "n = np.arange(N_x)  # n = [0, 1, 2, ..., N_x - 1]\n",
    "x_array = x_0 + n * delta_x"
   ]
  },
  {
   "cell_type": "markdown",
   "metadata": {},
   "source": [
    "### $x_{N_{x}-1}=x_{max}-\\Delta{x}$"
   ]
  },
  {
   "cell_type": "code",
   "execution_count": 5,
   "metadata": {},
   "outputs": [],
   "source": [
    "x_max = x_array[N_x - 1] + delta_x"
   ]
  },
  {
   "cell_type": "markdown",
   "metadata": {},
   "source": [
    "### $box\\,size = x_{max} - x_{min}$"
   ]
  },
  {
   "cell_type": "code",
   "execution_count": 6,
   "metadata": {},
   "outputs": [],
   "source": [
    "box_size = x_max - x_min"
   ]
  },
  {
   "cell_type": "markdown",
   "metadata": {},
   "source": [
    "## Configure potential function (array)"
   ]
  },
  {
   "cell_type": "code",
   "execution_count": 7,
   "metadata": {},
   "outputs": [],
   "source": [
    "## Set potential energy array in position representation\n",
    "potential_energy_array = np.zeros(N_x)"
   ]
  },
  {
   "cell_type": "code",
   "execution_count": 8,
   "metadata": {},
   "outputs": [
    {
     "data": {
      "text/plain": [
       "[<matplotlib.lines.Line2D at 0x1e4ff76ea20>]"
      ]
     },
     "execution_count": 8,
     "metadata": {},
     "output_type": "execute_result"
    },
    {
     "data": {
      "image/png": "[encoded data removed]",
      "text/plain": [
       "<Figure size 432x288 with 1 Axes>"
      ]
     },
     "metadata": {},
     "output_type": "display_data"
    }
   ],
   "source": [
    "plt.plot(x_array, potential_energy_array)"
   ]
  },
  {
   "cell_type": "markdown",
   "metadata": {},
   "source": [
    "# Construct Hamiltonian matrix"
   ]
  },
  {
   "cell_type": "code",
   "execution_count": 9,
   "metadata": {},
   "outputs": [],
   "source": [
    "matrix_shape = [N_x, N_x]  # Think about why the matrix is N_x by N_x matrix"
   ]
  },
  {
   "cell_type": "markdown",
   "metadata": {},
   "source": [
    "## Construct Kinetic Energy matrix (KE)\n",
    "#### Note that there are two '1' at upper right and lower left corner to represent the periodic boundary condition"
   ]
  },
  {
   "cell_type": "markdown",
   "metadata": {},
   "source": [
    "\\begin{equation}\n",
    "KE\n",
    "\\approx\n",
    "-\\frac{\\hbar^2}{2m}\n",
    "\\frac{1}{\\Delta{x}^2}\n",
    "\\begin{bmatrix}\n",
    "    -2 & 1 & 0 & \\dots & 0 & 0 & 1\\\\\n",
    "    1 & -2 & 1 & \\dots & 0 & 0 &0\\\\\n",
    "    0 & 1 & -2 & \\dots & 0 & 0 & 0\\\\\n",
    "    \\vdots & \\vdots & \\vdots & \\vdots & \\ddots & \\ddots & \\vdots \\\\\n",
    "    0 & 0 & 0 & \\dots & -2 & 1 & 0 \\\\\n",
    "    0 & 0 & 0 & \\dots & 1 & -2 & 1 \\\\\n",
    "    1 & 0 & 0 & \\dots & 0 & 1 & -2\n",
    "\\end{bmatrix}\n",
    "\\end{equation}"
   ]
  },
  {
   "cell_type": "code",
   "execution_count": 10,
   "metadata": {},
   "outputs": [],
   "source": [
    "KE = np.zeros(matrix_shape)  # kinetic_energy_matrix\n",
    "\n",
    "# Using atomic unit system\n",
    "hbar = 1\n",
    "m = 1\n",
    "\n",
    "# Caclulate coefficient\n",
    "coefficient = - hbar**2 / (2 * m) * 1.0 / (delta_x**2)\n",
    "\n",
    "## Fill diagonal elements\n",
    "diagonal_element = - 2.0 * coefficient\n",
    "for i in range(N_x):\n",
    "    j = i\n",
    "    KE[i,j] = diagonal_element\n",
    "\n",
    "## Fill offdiagonal elements\n",
    "off_diagonal_element = 1.0 * coefficient\n",
    "# Fill lower-offdiagonal\n",
    "for i in range(1,N_x):\n",
    "    j = i - 1\n",
    "    KE[i,j] = off_diagonal_element\n",
    "\n",
    "# Fill upper-offdiagonal\n",
    "for i in range(0,N_x-1):\n",
    "    j = i + 1\n",
    "    KE[i,j] = off_diagonal_element"
   ]
  },
  {
   "cell_type": "code",
   "execution_count": 11,
   "metadata": {},
   "outputs": [],
   "source": [
    "## Add '1' at upper right and lower left corner to represent the periodic boundary condition\n",
    "KE[0,N_x-1] = 1.0 * coefficient\n",
    "KE[N_x-1,0] = 1.0 * coefficient"
   ]
  },
  {
   "cell_type": "markdown",
   "metadata": {},
   "source": [
    "#### Check result"
   ]
  },
  {
   "cell_type": "code",
   "execution_count": 12,
   "metadata": {},
   "outputs": [
    {
     "data": {
      "text/plain": [
       "array([[100., -50.,   0., ...,   0.,   0., -50.],\n",
       "       [-50., 100., -50., ...,   0.,   0.,   0.],\n",
       "       [  0., -50., 100., ...,   0.,   0.,   0.],\n",
       "       ...,\n",
       "       [  0.,   0.,   0., ..., 100., -50.,   0.],\n",
       "       [  0.,   0.,   0., ..., -50., 100., -50.],\n",
       "       [-50.,   0.,   0., ...,   0., -50., 100.]])"
      ]
     },
     "execution_count": 12,
     "metadata": {},
     "output_type": "execute_result"
    }
   ],
   "source": [
    "KE"
   ]
  },
  {
   "cell_type": "markdown",
   "metadata": {},
   "source": [
    "## Construct potential energy matrix"
   ]
  },
  {
   "cell_type": "code",
   "execution_count": 13,
   "metadata": {},
   "outputs": [],
   "source": [
    "PE = np.zeros(matrix_shape)  # potential_energy_matrix\n",
    "\n",
    "# fill diagonal\n",
    "for i in range(N_x):\n",
    "    PE[i,i] = potential_energy_array[i]"
   ]
  },
  {
   "cell_type": "markdown",
   "metadata": {},
   "source": [
    "#### Check result"
   ]
  },
  {
   "cell_type": "code",
   "execution_count": 14,
   "metadata": {},
   "outputs": [
    {
     "data": {
      "text/plain": [
       "array([[0., 0., 0., ..., 0., 0., 0.],\n",
       "       [0., 0., 0., ..., 0., 0., 0.],\n",
       "       [0., 0., 0., ..., 0., 0., 0.],\n",
       "       ...,\n",
       "       [0., 0., 0., ..., 0., 0., 0.],\n",
       "       [0., 0., 0., ..., 0., 0., 0.],\n",
       "       [0., 0., 0., ..., 0., 0., 0.]])"
      ]
     },
     "execution_count": 14,
     "metadata": {},
     "output_type": "execute_result"
    }
   ],
   "source": [
    "PE"
   ]
  },
  {
   "cell_type": "markdown",
   "metadata": {},
   "source": [
    "## Construct Hamiltonian matrix"
   ]
  },
  {
   "cell_type": "code",
   "execution_count": 15,
   "metadata": {},
   "outputs": [],
   "source": [
    "hamiltonian = KE + PE"
   ]
  },
  {
   "cell_type": "code",
   "execution_count": 16,
   "metadata": {},
   "outputs": [
    {
     "data": {
      "text/plain": [
       "array([[100., -50.,   0., ...,   0.,   0., -50.],\n",
       "       [-50., 100., -50., ...,   0.,   0.,   0.],\n",
       "       [  0., -50., 100., ...,   0.,   0.,   0.],\n",
       "       ...,\n",
       "       [  0.,   0.,   0., ..., 100., -50.,   0.],\n",
       "       [  0.,   0.,   0., ..., -50., 100., -50.],\n",
       "       [-50.,   0.,   0., ...,   0., -50., 100.]])"
      ]
     },
     "execution_count": 16,
     "metadata": {},
     "output_type": "execute_result"
    }
   ],
   "source": [
    "hamiltonian"
   ]
  },
  {
   "cell_type": "markdown",
   "metadata": {},
   "source": [
    "# Obtain eigenenergy and eigenvectors\n",
    "### We use numpy.linalg.eigh() function\n",
    "### This funciton returns the eigenvalues and eigenvectors of a Hermitian matrix"
   ]
  },
  {
   "cell_type": "code",
   "execution_count": 17,
   "metadata": {},
   "outputs": [],
   "source": [
    "eigen_values, eigen_vectors = np.linalg.eigh(hamiltonian)"
   ]
  },
  {
   "cell_type": "markdown",
   "metadata": {},
   "source": [
    "#### Shape of the array of eigenvalues"
   ]
  },
  {
   "cell_type": "code",
   "execution_count": 18,
   "metadata": {},
   "outputs": [
    {
     "data": {
      "text/plain": [
       "(50,)"
      ]
     },
     "execution_count": 18,
     "metadata": {},
     "output_type": "execute_result"
    }
   ],
   "source": [
    "eigen_values.shape"
   ]
  },
  {
   "cell_type": "markdown",
   "metadata": {},
   "source": [
    "#### Shape of tha 2D array of eigenvectors"
   ]
  },
  {
   "cell_type": "code",
   "execution_count": 19,
   "metadata": {},
   "outputs": [
    {
     "data": {
      "text/plain": [
       "(50, 50)"
      ]
     },
     "execution_count": 19,
     "metadata": {},
     "output_type": "execute_result"
    }
   ],
   "source": [
    "eigen_vectors.shape"
   ]
  },
  {
   "cell_type": "code",
   "execution_count": 20,
   "metadata": {},
   "outputs": [
    {
     "data": {
      "text/plain": [
       "2.9692540559209607e-14"
      ]
     },
     "execution_count": 20,
     "metadata": {},
     "output_type": "execute_result"
    }
   ],
   "source": [
    "eigen_values[0]   # First eigenvalues"
   ]
  },
  {
   "cell_type": "code",
   "execution_count": 21,
   "metadata": {},
   "outputs": [
    {
     "data": {
      "text/plain": [
       "array([0.14142136, 0.14142136, 0.14142136, 0.14142136, 0.14142136,\n",
       "       0.14142136, 0.14142136, 0.14142136, 0.14142136, 0.14142136,\n",
       "       0.14142136, 0.14142136, 0.14142136, 0.14142136, 0.14142136,\n",
       "       0.14142136, 0.14142136, 0.14142136, 0.14142136, 0.14142136,\n",
       "       0.14142136, 0.14142136, 0.14142136, 0.14142136, 0.14142136,\n",
       "       0.14142136, 0.14142136, 0.14142136, 0.14142136, 0.14142136,\n",
       "       0.14142136, 0.14142136, 0.14142136, 0.14142136, 0.14142136,\n",
       "       0.14142136, 0.14142136, 0.14142136, 0.14142136, 0.14142136,\n",
       "       0.14142136, 0.14142136, 0.14142136, 0.14142136, 0.14142136,\n",
       "       0.14142136, 0.14142136, 0.14142136, 0.14142136, 0.14142136])"
      ]
     },
     "execution_count": 21,
     "metadata": {},
     "output_type": "execute_result"
    }
   ],
   "source": [
    "eigen_vectors[:,0]   # First eigenvector"
   ]
  },
  {
   "cell_type": "markdown",
   "metadata": {},
   "source": [
    "# Plot eigenvector"
   ]
  },
  {
   "cell_type": "code",
   "execution_count": 22,
   "metadata": {},
   "outputs": [
    {
     "data": {
      "text/plain": [
       "[<matplotlib.lines.Line2D at 0x1e4ff8146a0>]"
      ]
     },
     "execution_count": 22,
     "metadata": {},
     "output_type": "execute_result"
    },
    {
     "data": {
      "image/png": "[encoded data removed]",
      "text/plain": [
       "<Figure size 432x288 with 1 Axes>"
      ]
     },
     "metadata": {},
     "output_type": "display_data"
    }
   ],
   "source": [
    "plt.plot(x_array, eigen_vectors[:,7])"
   ]
  }
 ],
 "metadata": {
  "kernelspec": {
   "display_name": "Python 3",
   "language": "python",
   "name": "python3"
  },
  "language_info": {
   "codemirror_mode": {
    "name": "ipython",
    "version": 3
   },
   "file_extension": ".py",
   "mimetype": "text/x-python",
   "name": "python",
   "nbconvert_exporter": "python",
   "pygments_lexer": "ipython3",
   "version": "3.6.4"
  }
 },
 "nbformat": 4,
 "nbformat_minor": 2
}
