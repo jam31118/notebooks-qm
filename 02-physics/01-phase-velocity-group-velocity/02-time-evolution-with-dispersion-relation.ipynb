{
 "cells": [
  {
   "cell_type": "code",
   "execution_count": null,
   "metadata": {},
   "outputs": [],
   "source": [
    "%matplotlib inline\n",
    "import matplotlib.pyplot as plt\n",
    "import numpy as np"
   ]
  },
  {
   "cell_type": "code",
   "execution_count": null,
   "metadata": {},
   "outputs": [],
   "source": [
    "from matplotlib import rcParams\n",
    "\n",
    "rcParams['font.family'] = 'DejaVu Sans'\n",
    "rcParams['font.size'] = 15"
   ]
  },
  {
   "cell_type": "markdown",
   "metadata": {},
   "source": [
    "# Define wave at initial time $t_0$"
   ]
  },
  {
   "cell_type": "markdown",
   "metadata": {},
   "source": [
    "### Define spatial grid"
   ]
  },
  {
   "cell_type": "code",
   "execution_count": null,
   "metadata": {},
   "outputs": [],
   "source": [
    "x_arr = np.linspace(-50,50,1001)  # equi-distanced spatial grid\n",
    "\n",
    "delta_x = x_arr[1] - x_arr[0]  # it holds since the spatial grid is equi-distanced"
   ]
  },
  {
   "cell_type": "markdown",
   "metadata": {},
   "source": [
    "### Define wave on the spatial grid"
   ]
  },
  {
   "cell_type": "code",
   "execution_count": null,
   "metadata": {},
   "outputs": [],
   "source": [
    "wave = np.exp(-x_arr ** 2)  # '**' means 'power' e.g. \"3 ** 2 == 9\""
   ]
  },
  {
   "cell_type": "markdown",
   "metadata": {},
   "source": [
    "### Check the shape of generated wave"
   ]
  },
  {
   "cell_type": "code",
   "execution_count": null,
   "metadata": {},
   "outputs": [],
   "source": [
    "plt.plot(x_arr, wave.real)"
   ]
  },
  {
   "cell_type": "markdown",
   "metadata": {},
   "source": [
    "# Decompose the initial wave into plane waves"
   ]
  },
  {
   "cell_type": "markdown",
   "metadata": {},
   "source": [
    "## Numerical consideration: Nyquist Criteria\n",
    "$\\Delta{x}$ should be small enough to express plane wave with high wave number $k$.\n",
    "If the wave number $k$ is too big (thus the corresponding wavelength is too small), the spatial oscillation cannot be expressed by given $\\Delta{x}$\n",
    "\n",
    "\\begin{equation}\n",
    "2\\Delta{x} \\le \\lambda_{min} = \\frac{2\\pi}{k_{max}}\n",
    "\\end{equation}"
   ]
  },
  {
   "cell_type": "code",
   "execution_count": null,
   "metadata": {},
   "outputs": [],
   "source": [
    "k_max = np.pi / delta_x\n",
    "\n",
    "k_arr = np.linspace(-k_max, k_max, x_arr.size)"
   ]
  },
  {
   "cell_type": "code",
   "execution_count": null,
   "metadata": {},
   "outputs": [],
   "source": [
    "## Define a container for components of each plane wave\n",
    "k_components = np.empty_like(k_arr, dtype=np.complex)\n",
    "\n",
    "## Calculate components of each plane wave\n",
    "for k_index in range(k_arr.size):\n",
    "    # construct a plane wave array\n",
    "    wave_k = np.exp(-1.0j * k_arr[k_index] * x_arr)\n",
    "    \n",
    "    # Project the plane wave to the initial wave\n",
    "    product = wave_k.conjugate() * wave\n",
    "    inner_product = (product[:-1] + product[1:]).sum() * delta_x - 0.5 * (product[0] + product[-1])\n",
    "    \n",
    "    # Store the calculated component into the container array\n",
    "    k_components[k_index] = inner_product"
   ]
  },
  {
   "cell_type": "markdown",
   "metadata": {},
   "source": [
    "### Plot k-spectrum"
   ]
  },
  {
   "cell_type": "code",
   "execution_count": null,
   "metadata": {},
   "outputs": [],
   "source": [
    "fig = plt.figure()\n",
    "ax = fig.gca()\n",
    "\n",
    "k_spectrum_abs = np.abs(k_components)\n",
    "ax.plot(k_arr, k_spectrum_abs)\n",
    "ax.set_xlim(-k_max, k_max)\n",
    "ax.set_ylim(0, k_spectrum_abs.max() * 1.1)\n",
    "ax.set_xlabel('k')\n",
    "ax.set_ylabel('plane wave components')"
   ]
  },
  {
   "cell_type": "markdown",
   "metadata": {},
   "source": [
    "# Define dispersion relation $\\omega(k)$"
   ]
  },
  {
   "cell_type": "code",
   "execution_count": null,
   "metadata": {},
   "outputs": [],
   "source": [
    "#def omega(k): return 1.0 * np.abs(k)  # linear dispersion\n",
    "#def omega(k): return 1.0 * k + 2.0\n",
    "def omega(k): return 1.0 * np.abs(k*k)  # quad\n",
    "#def omega(k): return 3.0 * np.abs(k*k*k)  # trigometric"
   ]
  },
  {
   "cell_type": "markdown",
   "metadata": {},
   "source": [
    "# Test Reconstruction\n",
    "### : from k-spectrum to x-spectrum (spatial spectrum)"
   ]
  },
  {
   "cell_type": "code",
   "execution_count": null,
   "metadata": {},
   "outputs": [],
   "source": [
    "K, X = np.meshgrid(k_arr, x_arr, indexing='ij')"
   ]
  },
  {
   "cell_type": "code",
   "execution_count": null,
   "metadata": {},
   "outputs": [],
   "source": [
    "t = 4.0\n",
    "\n",
    "basis = np.exp(1j * (K * X - omega(K) * t))\n",
    "\n",
    "wave_at_t = np.einsum(k_components, [0], basis, [0,1])"
   ]
  },
  {
   "cell_type": "code",
   "execution_count": null,
   "metadata": {},
   "outputs": [],
   "source": [
    "fig = plt.figure(figsize=(10,4))\n",
    "ax = fig.gca()\n",
    "\n",
    "ax.plot(x_arr, wave_at_t.real, label='real')\n",
    "ax.plot(x_arr, wave_at_t.imag, label='imag')\n",
    "ax.plot(x_arr, np.abs(wave_at_t), '--', label='absolute')\n",
    "\n",
    "ax.legend()\n",
    "\n",
    "ax.set_xlabel(r'$x\\,/\\,a.u.$')"
   ]
  },
  {
   "cell_type": "code",
   "execution_count": null,
   "metadata": {},
   "outputs": [],
   "source": [
    "#fig.savefig('gaussian-quad-dispersion.png')"
   ]
  },
  {
   "cell_type": "markdown",
   "metadata": {},
   "source": [
    "# Visualize Decomposition"
   ]
  },
  {
   "cell_type": "markdown",
   "metadata": {},
   "source": [
    "### Define time array"
   ]
  },
  {
   "cell_type": "code",
   "execution_count": null,
   "metadata": {},
   "outputs": [],
   "source": [
    "t_array = np.linspace(0,100,1000)"
   ]
  },
  {
   "cell_type": "markdown",
   "metadata": {},
   "source": [
    "### Determine k values to be plotted"
   ]
  },
  {
   "cell_type": "code",
   "execution_count": null,
   "metadata": {},
   "outputs": [],
   "source": [
    "assert (k_arr.size % 2) == 1  # The number of k array should be odd\n",
    "k_zero_indice = k_arr.size // 2\n",
    "assert k_arr[k_zero_indice] == 0"
   ]
  },
  {
   "cell_type": "code",
   "execution_count": null,
   "metadata": {},
   "outputs": [],
   "source": [
    "k_num = 4\n",
    "k_index_interval = 10\n",
    "k_indices = np.arange(k_zero_indice - k_num * k_index_interval, \n",
    "                      k_zero_indice + k_num * (k_index_interval+1), \n",
    "                      k_index_interval)\n",
    "\n",
    "k_values = k_arr[k_indices]"
   ]
  },
  {
   "cell_type": "markdown",
   "metadata": {},
   "source": [
    "### Configure appearence for plotting"
   ]
  },
  {
   "cell_type": "code",
   "execution_count": null,
   "metadata": {},
   "outputs": [],
   "source": [
    "## Calculate maximum amplitude for each wave\n",
    "y_height = 0.5 * np.diff(k_values).min()\n",
    "padding_factor = 0.9\n",
    "y_height *= padding_factor"
   ]
  },
  {
   "cell_type": "code",
   "execution_count": null,
   "metadata": {},
   "outputs": [],
   "source": [
    "ylim = (k_values[0]-y_height*1.2, k_values[-1]+y_height*1.2)\n",
    "xlim = (x_arr[0],x_arr[-1])"
   ]
  },
  {
   "cell_type": "code",
   "execution_count": null,
   "metadata": {},
   "outputs": [],
   "source": [
    "## Calculate weight of each plane wave's amplidude\n",
    "## .. according to its k-component\n",
    "weights = np.abs(k_components[k_indices])\n",
    "weights /= weights.max()"
   ]
  },
  {
   "cell_type": "markdown",
   "metadata": {},
   "source": [
    "### Define functions which return data for given time $t$"
   ]
  },
  {
   "cell_type": "code",
   "execution_count": null,
   "metadata": {},
   "outputs": [],
   "source": [
    "Omega = omega(K)\n",
    "#basis = np.exp(1j * (K * X - Omega * t_array[0]))\n",
    "\n",
    "non_zero_mask = k_values != 0\n",
    "non_zero_k_values = k_values[non_zero_mask]\n",
    "v_phases = omega(non_zero_k_values) / non_zero_k_values\n",
    "\n",
    "def get_y_total(t):\n",
    "    basis = np.exp(1j * (K * X - Omega * t))\n",
    "    wave_at_t = np.einsum(k_components, [0], basis, [0,1])\n",
    "    original_height = np.abs(wave_at_t).max()\n",
    "    y_total = y_height / original_height * wave_at_t\n",
    "    return y_total\n",
    "\n",
    "def get_centers(t): return v_phases * t"
   ]
  },
  {
   "cell_type": "markdown",
   "metadata": {},
   "source": [
    "### Define functions for animation"
   ]
  },
  {
   "cell_type": "code",
   "execution_count": null,
   "metadata": {},
   "outputs": [],
   "source": [
    "fig, ax = plt.subplots(figsize=(10,7))\n",
    "\n",
    "line_total, = ax.plot([],[], color='black', linewidth=2)\n",
    "line_total_envol, = ax.plot([],[], color=(0,0,0,0.8), linewidth=1.5, linestyle='--')\n",
    "line_centers, = ax.plot([],[], color=(0.4,0,0,0.5), linewidth=1.0, linestyle='--')\n",
    "\n",
    "lines_plane_waves, lines_centers, lines_horizons = [], [], []\n",
    "for k_idx in range(k_values.size):\n",
    "    k_value = k_values[k_idx]\n",
    "    if k_value == 0: continue\n",
    "    lines_plane_waves.append(ax.plot([],[], color=(0,0,0,0.75), linewidth=1.0, linestyle='--')[0])\n",
    "    lines_centers.append(ax.plot([],[], marker='o', color=(0.4,0,0,1), markersize=3.0)[0])\n",
    "    lines_horizons.append(ax.plot([],[], linewidth=1.0, color=(0,0,0,0.75), linestyle='--')[0])\n",
    "\n",
    "## Combine lines\n",
    "lines = [line_total, line_centers, line_total_envol]\n",
    "for line_list in [lines_plane_waves, lines_centers, lines_horizons]:\n",
    "    lines += line_list\n",
    "\n",
    "    \n",
    "def init():\n",
    "    ax.set_ylabel(r'$k\\,/\\,a.u.$')\n",
    "    ax.set_xlabel(r'$x\\,/\\,a.u.$')\n",
    "    ax.set_xlim(*xlim)\n",
    "    ax.set_ylim(*ylim)\n",
    "    ax.grid(False)\n",
    "    return lines\n",
    "\n",
    "def update(t):\n",
    "    y_total = get_y_total(t)\n",
    "    line_total.set_data(x_arr, y_total.real)\n",
    "    line_total_envol.set_data(x_arr, np.abs(y_total))\n",
    "    line_centers.set_data(get_centers(t), non_zero_k_values)\n",
    "    idx = 0\n",
    "    for k_idx in range(k_values.size):\n",
    "        k_value = k_values[k_idx]\n",
    "        if k_value == 0: continue\n",
    "        wave_k = np.exp(1j * (k_value * x_arr - omega(k_value) * t))\n",
    "        v_phase = omega(k_value) / k_value\n",
    "        center = v_phase * t\n",
    "        y = wave_k.real\n",
    "        y_original_height = y.max()\n",
    "        y *= weights[k_idx] * y_height / y_original_height\n",
    "        \n",
    "        lines_plane_waves[idx].set_data(x_arr, y + k_value)\n",
    "        lines_centers[idx].set_data(center, k_value)\n",
    "        lines_horizons[idx].set_data([x_arr[0],x_arr[-1]], [k_value, k_value])\n",
    "        \n",
    "        idx += 1\n",
    "        \n",
    "    return lines"
   ]
  },
  {
   "cell_type": "markdown",
   "metadata": {},
   "source": [
    "### Redering animation"
   ]
  },
  {
   "cell_type": "code",
   "execution_count": null,
   "metadata": {},
   "outputs": [],
   "source": [
    "from matplotlib.animation import FuncAnimation\n",
    "\n",
    "rcParams['animation.ffmpeg_path'] = \"C://Users/ahn/Downloads/ffmpeg/bin/ffmpeg.exe\""
   ]
  },
  {
   "cell_type": "code",
   "execution_count": null,
   "metadata": {},
   "outputs": [],
   "source": [
    "t_array.size"
   ]
  },
  {
   "cell_type": "code",
   "execution_count": null,
   "metadata": {},
   "outputs": [],
   "source": [
    "ani = FuncAnimation(fig, update, frames=t_array[:50], init_func=init)"
   ]
  },
  {
   "cell_type": "code",
   "execution_count": null,
   "metadata": {},
   "outputs": [],
   "source": [
    "ani.save('test-decomposition.mp4')"
   ]
  }
 ],
 "metadata": {
  "kernelspec": {
   "display_name": "Python 3",
   "language": "python",
   "name": "python3"
  },
  "language_info": {
   "codemirror_mode": {
    "name": "ipython",
    "version": 3
   },
   "file_extension": ".py",
   "mimetype": "text/x-python",
   "name": "python",
   "nbconvert_exporter": "python",
   "pygments_lexer": "ipython3",
   "version": "3.5.2"
  }
 },
 "nbformat": 4,
 "nbformat_minor": 2
}
