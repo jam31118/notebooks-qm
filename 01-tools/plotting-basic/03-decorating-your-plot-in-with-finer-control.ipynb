{
 "cells": [
  {
   "cell_type": "code",
   "execution_count": null,
   "metadata": {},
   "outputs": [],
   "source": [
    "# the plot that you draw will be displayed in this notebook\n",
    "%matplotlib inline\n",
    "\n",
    "# 'matplotlib' is a module for plotting or making an animation etc.\n",
    "import matplotlib.pyplot as plt\n",
    "\n",
    "# 'numpy' provides various tools for manipulating arrays\n",
    "import numpy as np"
   ]
  },
  {
   "cell_type": "markdown",
   "metadata": {},
   "source": [
    "# Let's customize in a more controllable manner\n",
    "- This is a bit involved notebook. Thus, it is only for some interested students"
   ]
  },
  {
   "cell_type": "markdown",
   "metadata": {},
   "source": [
    "### Prepare data arrays"
   ]
  },
  {
   "cell_type": "code",
   "execution_count": null,
   "metadata": {},
   "outputs": [],
   "source": [
    "x = np.linspace(-5,5,100)\n",
    "y = np.exp(- x**2)"
   ]
  },
  {
   "cell_type": "markdown",
   "metadata": {},
   "source": [
    "### For simplicity, just use 'plt.plot()'"
   ]
  },
  {
   "cell_type": "code",
   "execution_count": null,
   "metadata": {},
   "outputs": [],
   "source": [
    "plt.plot(x,y)"
   ]
  },
  {
   "cell_type": "markdown",
   "metadata": {},
   "source": [
    "# In order to control the plotting quality in detail, we need to understand a hierarchy in this process\n",
    "- plot() $\\in$ Axes $\\in$ Figure\n",
    "- **Same thing can be done with some sophisticated controls, using this hierarchy**"
   ]
  },
  {
   "cell_type": "code",
   "execution_count": null,
   "metadata": {},
   "outputs": [],
   "source": [
    "fig = plt.figure()\n",
    "\n",
    "ax = fig.gca()\n",
    "\n",
    "ax.plot(x,y)"
   ]
  },
  {
   "cell_type": "markdown",
   "metadata": {},
   "source": [
    "### Let's see step-by-step"
   ]
  },
  {
   "cell_type": "code",
   "execution_count": null,
   "metadata": {},
   "outputs": [],
   "source": [
    "# 'plt.figure()' generate a Figure object which will contain one or more Axes object(s)\n",
    "# .. and this Axes is an object on which your actual plots are drawn\n",
    "fig = plt.figure()"
   ]
  },
  {
   "cell_type": "code",
   "execution_count": null,
   "metadata": {},
   "outputs": [],
   "source": [
    "# At this moment, we can see that there is no Axes object in the 'fig' object.\n",
    "# .. It can be confirmed by printing 'fig.axes', which is an attribute of the 'fig' object\n",
    "# .. which contains a list of Axes object(s) it has\n",
    "fig.axes"
   ]
  },
  {
   "cell_type": "code",
   "execution_count": null,
   "metadata": {},
   "outputs": [],
   "source": [
    "# Since there is no Axes object in Figure 'fig',\n",
    "# .. we cannot see anything when we print 'fig'\n",
    "fig"
   ]
  },
  {
   "cell_type": "code",
   "execution_count": null,
   "metadata": {},
   "outputs": [],
   "source": [
    "# 'fig.gca()' generate an Axes object in which your plots are going to be drawn\n",
    "# .. the name of the function 'gca()' is an abbreviation of 'get current axes'\n",
    "ax = fig.gca()"
   ]
  },
  {
   "cell_type": "code",
   "execution_count": null,
   "metadata": {},
   "outputs": [],
   "source": [
    "# After calling 'fig.gca()', we can see that the Axes object is generated\n",
    "# .. by printing the list of axes object the 'fig' object has\n",
    "fig.axes"
   ]
  },
  {
   "cell_type": "code",
   "execution_count": null,
   "metadata": {},
   "outputs": [],
   "source": [
    "# Indeed, for now, we can see this Axes object when we print 'fig' object\n",
    "fig"
   ]
  },
  {
   "cell_type": "code",
   "execution_count": null,
   "metadata": {},
   "outputs": [],
   "source": [
    "# Then, we can plot our data using our Axes object 'ax' by typeing the following:\n",
    "ax.plot(x,y)"
   ]
  },
  {
   "cell_type": "code",
   "execution_count": null,
   "metadata": {},
   "outputs": [],
   "source": [
    "# The plot that has been drawn by 'ax.plot()' can be seen by printing 'fig' object\n",
    "# .. since the 'ax' is contained in the 'fig' object\n",
    "fig"
   ]
  },
  {
   "cell_type": "markdown",
   "metadata": {},
   "source": [
    "### Summerizing the above processes:"
   ]
  },
  {
   "cell_type": "code",
   "execution_count": null,
   "metadata": {},
   "outputs": [],
   "source": [
    "fig = plt.figure()  # generate a Figure object\n",
    "\n",
    "ax = fig.gca()   # generate an Axes object\n",
    "\n",
    "ax.plot(x,y)   # plot our data by using plot() function of Axes object"
   ]
  },
  {
   "cell_type": "markdown",
   "metadata": {},
   "source": [
    "# Then, more sophisticated control is possible"
   ]
  },
  {
   "cell_type": "markdown",
   "metadata": {},
   "source": [
    "### figure size control"
   ]
  },
  {
   "cell_type": "code",
   "execution_count": null,
   "metadata": {},
   "outputs": [],
   "source": [
    "fig = plt.figure(figsize=(12,4))  # generate a Figure object with setting the size\n",
    "\n",
    "ax = fig.gca()\n",
    "\n",
    "ax.plot(x,y)"
   ]
  },
  {
   "cell_type": "markdown",
   "metadata": {},
   "source": [
    "### Decoration on Axes level"
   ]
  },
  {
   "cell_type": "code",
   "execution_count": null,
   "metadata": {},
   "outputs": [],
   "source": [
    "fig = plt.figure(figsize=(12,4))\n",
    "\n",
    "ax = fig.gca()\n",
    "\n",
    "ax.plot(x,y,'.-', color='black', linewidth=0.3)\n",
    "\n",
    "ax.set_xlabel('x coordinate', fontsize='xx-large')\n",
    "ax.set_ylabel('amplitude', fontsize='xx-large')\n",
    "ax.set_title('Gaussian Function', fontsize='xx-large')\n",
    "\n",
    "ax.tick_params(axis='both', labelsize='large')"
   ]
  },
  {
   "cell_type": "markdown",
   "metadata": {},
   "source": [
    "### subplotting"
   ]
  },
  {
   "cell_type": "code",
   "execution_count": null,
   "metadata": {},
   "outputs": [],
   "source": [
    "fig, axes = plt.subplots(nrows=1, ncols=3, figsize=(15,4))"
   ]
  },
  {
   "cell_type": "code",
   "execution_count": null,
   "metadata": {},
   "outputs": [],
   "source": [
    "axes  # It is an array of Axes objects"
   ]
  },
  {
   "cell_type": "code",
   "execution_count": null,
   "metadata": {},
   "outputs": [],
   "source": [
    "axes[0]  # It is a single Axes object, which an element of Axes array"
   ]
  },
  {
   "cell_type": "code",
   "execution_count": null,
   "metadata": {},
   "outputs": [],
   "source": [
    "# since axes[0] is just an Axes object, we can use all features of Axes object\n",
    "axes[0].plot(x,y)\n",
    "\n",
    "# In order to see the drawn plot on 'axes[0]' object, let's print 'fig' object\n",
    "# .. then we'll see that a plot was drawn at the first Axes\n",
    "fig"
   ]
  },
  {
   "cell_type": "code",
   "execution_count": null,
   "metadata": {},
   "outputs": [],
   "source": [
    "# In a same manner, we can plot on other Axes objects as well\n",
    "axes[1].plot(x,-y, color='orange')\n",
    "axes[2].plot(x,y - x, linestyle='--', color='black')\n",
    "\n",
    "# Let's see the result by printing 'fig'\n",
    "fig"
   ]
  },
  {
   "cell_type": "markdown",
   "metadata": {},
   "source": [
    "### Multi axes"
   ]
  },
  {
   "cell_type": "code",
   "execution_count": null,
   "metadata": {},
   "outputs": [],
   "source": [
    "fig = plt.figure(figsize=(12,4))\n",
    "\n",
    "ax = fig.gca()\n",
    "\n",
    "ax2 = ax.twinx()"
   ]
  },
  {
   "cell_type": "code",
   "execution_count": null,
   "metadata": {},
   "outputs": [],
   "source": [
    "# example of controlling two axes separately\n",
    "\n",
    "ax_color = (0.4, 0, 0)\n",
    "ax.plot(x,y, color=ax_color)\n",
    "ax.set_ylabel('first quantity', fontsize='xx-large', color=ax_color)\n",
    "ax.tick_params(axis='y', color=ax_color, labelcolor=ax_color)\n",
    "\n",
    "ax.set_xlabel('position [arbi. unit]', fontsize='xx-large')\n",
    "\n",
    "ax2_color = (0,0,0.4)\n",
    "ax2.plot(x,x**2, '--', color=ax2_color)\n",
    "ax2.set_ylabel('second quantity', fontsize='xx-large', color=ax2_color, rotation=270, verticalalignment='bottom')\n",
    "ax2.tick_params(axis='y', color=ax2_color, labelcolor=ax2_color)"
   ]
  },
  {
   "cell_type": "code",
   "execution_count": null,
   "metadata": {},
   "outputs": [],
   "source": [
    "fig"
   ]
  }
 ],
 "metadata": {
  "kernelspec": {
   "display_name": "Python 3",
   "language": "python",
   "name": "python3"
  },
  "language_info": {
   "codemirror_mode": {
    "name": "ipython",
    "version": 3
   },
   "file_extension": ".py",
   "mimetype": "text/x-python",
   "name": "python",
   "nbconvert_exporter": "python",
   "pygments_lexer": "ipython3",
   "version": "3.5.2"
  }
 },
 "nbformat": 4,
 "nbformat_minor": 2
}
