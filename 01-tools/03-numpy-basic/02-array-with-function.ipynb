{
 "cells": [
  {
   "cell_type": "code",
   "execution_count": 1,
   "metadata": {},
   "outputs": [],
   "source": [
    "import numpy as np"
   ]
  },
  {
   "cell_type": "markdown",
   "metadata": {},
   "source": [
    "# [ Array Generation Function ]"
   ]
  },
  {
   "cell_type": "markdown",
   "metadata": {},
   "source": [
    "### `zeros()` : allocate an array of zeros "
   ]
  },
  {
   "cell_type": "code",
   "execution_count": 2,
   "metadata": {},
   "outputs": [
    {
     "data": {
      "text/plain": [
       "array([0., 0., 0., 0.])"
      ]
     },
     "execution_count": 2,
     "metadata": {},
     "output_type": "execute_result"
    }
   ],
   "source": [
    "np.zeros(4)"
   ]
  },
  {
   "cell_type": "code",
   "execution_count": 3,
   "metadata": {},
   "outputs": [
    {
     "data": {
      "text/plain": [
       "array([0., 0., 0., 0.])"
      ]
     },
     "execution_count": 3,
     "metadata": {},
     "output_type": "execute_result"
    }
   ],
   "source": [
    "np.zeros((4,))"
   ]
  },
  {
   "cell_type": "code",
   "execution_count": 4,
   "metadata": {},
   "outputs": [
    {
     "data": {
      "text/plain": [
       "array([[0., 0.],\n",
       "       [0., 0.],\n",
       "       [0., 0.],\n",
       "       [0., 0.]])"
      ]
     },
     "execution_count": 4,
     "metadata": {},
     "output_type": "execute_result"
    }
   ],
   "source": [
    "np.zeros((4,2))"
   ]
  },
  {
   "cell_type": "markdown",
   "metadata": {},
   "source": [
    "##### [NOTE] Distinguishing `4`, `(4)`, and `(4,)`\n",
    "A tuple can be constructed by adding a `()` to a comma-separated sequence of objects.\n",
    "\n",
    "For example, `(3,'star',5.5)` is a tuple with 3 elements.\n",
    "\n",
    "When one wants to construct a tuple with 1 element, say a number `4`, it may be tempting to do so like `(4)`. However, it would be interpreted as just a scalar number `4` since a pair of `()` _without_ commas is reserved not for tuple but for other purpose such as directing an evaluation order.\n",
    "\n",
    "Thus, when one wants to construct a tuple with one element, one should do so by appending a comma at the end of the first object, like `(4,)`"
   ]
  },
  {
   "cell_type": "markdown",
   "metadata": {},
   "source": [
    "##### [NOTE] When specifying a shape, use tuple, rather than a scalar number.\n",
    "A number and a tuple with one element should be distinguished. (e.g. `4` and `(4,)`)\n",
    "\n",
    "When generating 1-D array using a function like `zeros()`, it is recommended to use tuple rather than just scalar number for enhanced consistency with the case of higher dimension array, although both are acceptable."
   ]
  },
  {
   "cell_type": "markdown",
   "metadata": {},
   "source": [
    "### `ones()` : allocate an array of ones"
   ]
  },
  {
   "cell_type": "code",
   "execution_count": 5,
   "metadata": {},
   "outputs": [
    {
     "data": {
      "text/plain": [
       "array([1., 1., 1., 1., 1., 1.])"
      ]
     },
     "execution_count": 5,
     "metadata": {},
     "output_type": "execute_result"
    }
   ],
   "source": [
    "np.ones((6,))"
   ]
  },
  {
   "cell_type": "code",
   "execution_count": 6,
   "metadata": {},
   "outputs": [
    {
     "data": {
      "text/plain": [
       "array([[1., 1., 1., 1., 1.],\n",
       "       [1., 1., 1., 1., 1.],\n",
       "       [1., 1., 1., 1., 1.]])"
      ]
     },
     "execution_count": 6,
     "metadata": {},
     "output_type": "execute_result"
    }
   ],
   "source": [
    "np.ones((3,5))"
   ]
  },
  {
   "cell_type": "markdown",
   "metadata": {},
   "source": [
    "### `linspace()` : allocate an array of equally (linearly) spaced numbers between fixed minimum and maximum"
   ]
  },
  {
   "cell_type": "code",
   "execution_count": 7,
   "metadata": {},
   "outputs": [],
   "source": [
    "# I want to generate an array \n",
    "# with linearly spaced 11 numbers between 0 and 1\n",
    "start, end, number = 0, 1, 11"
   ]
  },
  {
   "cell_type": "code",
   "execution_count": 8,
   "metadata": {},
   "outputs": [],
   "source": [
    "a = np.linspace(start, end, number)"
   ]
  },
  {
   "cell_type": "code",
   "execution_count": 9,
   "metadata": {},
   "outputs": [
    {
     "data": {
      "text/plain": [
       "array([0. , 0.1, 0.2, 0.3, 0.4, 0.5, 0.6, 0.7, 0.8, 0.9, 1. ])"
      ]
     },
     "execution_count": 9,
     "metadata": {},
     "output_type": "execute_result"
    }
   ],
   "source": [
    "a"
   ]
  },
  {
   "cell_type": "code",
   "execution_count": 10,
   "metadata": {},
   "outputs": [
    {
     "data": {
      "text/plain": [
       "0.1"
      ]
     },
     "execution_count": 10,
     "metadata": {},
     "output_type": "execute_result"
    }
   ],
   "source": [
    "## interval\n",
    "(end - start) / (number - 1)"
   ]
  },
  {
   "cell_type": "code",
   "execution_count": 11,
   "metadata": {},
   "outputs": [
    {
     "data": {
      "text/plain": [
       "0.1"
      ]
     },
     "execution_count": 11,
     "metadata": {},
     "output_type": "execute_result"
    }
   ],
   "source": [
    "## interval, assuming equidistance of a\n",
    "a[1] - a[0]"
   ]
  },
  {
   "cell_type": "markdown",
   "metadata": {},
   "source": [
    "### `eye()` allocate an identity matrix"
   ]
  },
  {
   "cell_type": "code",
   "execution_count": 12,
   "metadata": {},
   "outputs": [
    {
     "data": {
      "text/plain": [
       "array([[1., 0., 0., 0.],\n",
       "       [0., 1., 0., 0.],\n",
       "       [0., 0., 1., 0.],\n",
       "       [0., 0., 0., 1.]])"
      ]
     },
     "execution_count": 12,
     "metadata": {},
     "output_type": "execute_result"
    }
   ],
   "source": [
    "np.eye(4)"
   ]
  },
  {
   "cell_type": "markdown",
   "metadata": {},
   "source": [
    "# [ Math functions ]"
   ]
  },
  {
   "cell_type": "markdown",
   "metadata": {},
   "source": [
    "### Generate an test array"
   ]
  },
  {
   "cell_type": "code",
   "execution_count": 13,
   "metadata": {},
   "outputs": [],
   "source": [
    "x = np.linspace(-1, 1, 20)"
   ]
  },
  {
   "cell_type": "code",
   "execution_count": 14,
   "metadata": {},
   "outputs": [
    {
     "data": {
      "text/plain": [
       "array([-1.        , -0.89473684, -0.78947368, -0.68421053, -0.57894737,\n",
       "       -0.47368421, -0.36842105, -0.26315789, -0.15789474, -0.05263158,\n",
       "        0.05263158,  0.15789474,  0.26315789,  0.36842105,  0.47368421,\n",
       "        0.57894737,  0.68421053,  0.78947368,  0.89473684,  1.        ])"
      ]
     },
     "execution_count": 14,
     "metadata": {},
     "output_type": "execute_result"
    }
   ],
   "source": [
    "x"
   ]
  },
  {
   "cell_type": "markdown",
   "metadata": {},
   "source": [
    "### `exp()`"
   ]
  },
  {
   "cell_type": "code",
   "execution_count": 15,
   "metadata": {},
   "outputs": [
    {
     "data": {
      "text/plain": [
       "array([0.36787944, 0.40871514, 0.45408372, 0.50448835, 0.56048804,\n",
       "       0.62270386, 0.69182583, 0.76862053, 0.85393967, 0.94872948,\n",
       "       1.05404124, 1.17104292, 1.30103213, 1.44545052, 1.60589978,\n",
       "       1.78415938, 1.98220632, 2.20223705, 2.44669184, 2.71828183])"
      ]
     },
     "execution_count": 15,
     "metadata": {},
     "output_type": "execute_result"
    }
   ],
   "source": [
    "np.exp(x)"
   ]
  },
  {
   "cell_type": "code",
   "execution_count": 16,
   "metadata": {},
   "outputs": [
    {
     "data": {
      "text/plain": [
       "array([0.54030231-0.84147098j, 0.62572411-0.78004444j,\n",
       "       0.70421909-0.70998273j, 0.77491828-0.63206143j,\n",
       "       0.83703905-0.54714315j, 0.88989371-0.45616793j,\n",
       "       0.93289715-0.36014289j, 0.96557333-0.26013102j,\n",
       "       0.9875605 -0.15723948j, 0.99861528-0.05260728j,\n",
       "       0.99861528+0.05260728j, 0.9875605 +0.15723948j,\n",
       "       0.96557333+0.26013102j, 0.93289715+0.36014289j,\n",
       "       0.88989371+0.45616793j, 0.83703905+0.54714315j,\n",
       "       0.77491828+0.63206143j, 0.70421909+0.70998273j,\n",
       "       0.62572411+0.78004444j, 0.54030231+0.84147098j])"
      ]
     },
     "execution_count": 16,
     "metadata": {},
     "output_type": "execute_result"
    }
   ],
   "source": [
    "np.exp(1j * x)  # it also works for complex number"
   ]
  },
  {
   "cell_type": "markdown",
   "metadata": {},
   "source": [
    "### `sin()`, `cos()`, `tan()`"
   ]
  },
  {
   "cell_type": "code",
   "execution_count": 17,
   "metadata": {},
   "outputs": [
    {
     "data": {
      "text/plain": [
       "array([-0.84147098, -0.78004444, -0.70998273, -0.63206143, -0.54714315,\n",
       "       -0.45616793, -0.36014289, -0.26013102, -0.15723948, -0.05260728,\n",
       "        0.05260728,  0.15723948,  0.26013102,  0.36014289,  0.45616793,\n",
       "        0.54714315,  0.63206143,  0.70998273,  0.78004444,  0.84147098])"
      ]
     },
     "execution_count": 17,
     "metadata": {},
     "output_type": "execute_result"
    }
   ],
   "source": [
    "np.sin(x)"
   ]
  },
  {
   "cell_type": "code",
   "execution_count": 18,
   "metadata": {},
   "outputs": [
    {
     "data": {
      "text/plain": [
       "array([0.54030231, 0.62572411, 0.70421909, 0.77491828, 0.83703905,\n",
       "       0.88989371, 0.93289715, 0.96557333, 0.9875605 , 0.99861528,\n",
       "       0.99861528, 0.9875605 , 0.96557333, 0.93289715, 0.88989371,\n",
       "       0.83703905, 0.77491828, 0.70421909, 0.62572411, 0.54030231])"
      ]
     },
     "execution_count": 18,
     "metadata": {},
     "output_type": "execute_result"
    }
   ],
   "source": [
    "np.cos(x)"
   ]
  },
  {
   "cell_type": "code",
   "execution_count": 19,
   "metadata": {},
   "outputs": [
    {
     "data": {
      "text/plain": [
       "array([-1.55740772, -1.24662679, -1.00818444, -0.81564914, -0.65366502,\n",
       "       -0.51260945, -0.38604779, -0.26940577, -0.1592201 , -0.05268023,\n",
       "        0.05268023,  0.1592201 ,  0.26940577,  0.38604779,  0.51260945,\n",
       "        0.65366502,  0.81564914,  1.00818444,  1.24662679,  1.55740772])"
      ]
     },
     "execution_count": 19,
     "metadata": {},
     "output_type": "execute_result"
    }
   ],
   "source": [
    "np.tan(x)"
   ]
  },
  {
   "cell_type": "markdown",
   "metadata": {},
   "source": [
    "# [ Handling Complex-valued array ]"
   ]
  },
  {
   "cell_type": "markdown",
   "metadata": {},
   "source": [
    "### Generate an test array"
   ]
  },
  {
   "cell_type": "code",
   "execution_count": 20,
   "metadata": {},
   "outputs": [],
   "source": [
    "c1 = np.exp(1j * x)"
   ]
  },
  {
   "cell_type": "markdown",
   "metadata": {},
   "source": [
    "### Accessing real part & imaginary part"
   ]
  },
  {
   "cell_type": "code",
   "execution_count": 21,
   "metadata": {},
   "outputs": [
    {
     "data": {
      "text/plain": [
       "array([0.54030231, 0.62572411, 0.70421909, 0.77491828, 0.83703905,\n",
       "       0.88989371, 0.93289715, 0.96557333, 0.9875605 , 0.99861528,\n",
       "       0.99861528, 0.9875605 , 0.96557333, 0.93289715, 0.88989371,\n",
       "       0.83703905, 0.77491828, 0.70421909, 0.62572411, 0.54030231])"
      ]
     },
     "execution_count": 21,
     "metadata": {},
     "output_type": "execute_result"
    }
   ],
   "source": [
    "c1.real"
   ]
  },
  {
   "cell_type": "code",
   "execution_count": 22,
   "metadata": {},
   "outputs": [
    {
     "data": {
      "text/plain": [
       "array([-0.84147098, -0.78004444, -0.70998273, -0.63206143, -0.54714315,\n",
       "       -0.45616793, -0.36014289, -0.26013102, -0.15723948, -0.05260728,\n",
       "        0.05260728,  0.15723948,  0.26013102,  0.36014289,  0.45616793,\n",
       "        0.54714315,  0.63206143,  0.70998273,  0.78004444,  0.84147098])"
      ]
     },
     "execution_count": 22,
     "metadata": {},
     "output_type": "execute_result"
    }
   ],
   "source": [
    "c1.imag"
   ]
  },
  {
   "cell_type": "markdown",
   "metadata": {},
   "source": [
    "### Conjugation : $z^{*}=Re[z]+i{Im}[z]$"
   ]
  },
  {
   "cell_type": "markdown",
   "metadata": {},
   "source": [
    "##### Using module function"
   ]
  },
  {
   "cell_type": "code",
   "execution_count": 23,
   "metadata": {},
   "outputs": [
    {
     "data": {
      "text/plain": [
       "array([0.54030231+0.84147098j, 0.62572411+0.78004444j,\n",
       "       0.70421909+0.70998273j, 0.77491828+0.63206143j,\n",
       "       0.83703905+0.54714315j, 0.88989371+0.45616793j,\n",
       "       0.93289715+0.36014289j, 0.96557333+0.26013102j,\n",
       "       0.9875605 +0.15723948j, 0.99861528+0.05260728j,\n",
       "       0.99861528-0.05260728j, 0.9875605 -0.15723948j,\n",
       "       0.96557333-0.26013102j, 0.93289715-0.36014289j,\n",
       "       0.88989371-0.45616793j, 0.83703905-0.54714315j,\n",
       "       0.77491828-0.63206143j, 0.70421909-0.70998273j,\n",
       "       0.62572411-0.78004444j, 0.54030231-0.84147098j])"
      ]
     },
     "execution_count": 23,
     "metadata": {},
     "output_type": "execute_result"
    }
   ],
   "source": [
    "np.conjugate(c1)"
   ]
  },
  {
   "cell_type": "markdown",
   "metadata": {},
   "source": [
    "##### Using array's own function (it is called 'method' of the array)"
   ]
  },
  {
   "cell_type": "code",
   "execution_count": 24,
   "metadata": {},
   "outputs": [
    {
     "data": {
      "text/plain": [
       "array([0.54030231+0.84147098j, 0.62572411+0.78004444j,\n",
       "       0.70421909+0.70998273j, 0.77491828+0.63206143j,\n",
       "       0.83703905+0.54714315j, 0.88989371+0.45616793j,\n",
       "       0.93289715+0.36014289j, 0.96557333+0.26013102j,\n",
       "       0.9875605 +0.15723948j, 0.99861528+0.05260728j,\n",
       "       0.99861528-0.05260728j, 0.9875605 -0.15723948j,\n",
       "       0.96557333-0.26013102j, 0.93289715-0.36014289j,\n",
       "       0.88989371-0.45616793j, 0.83703905-0.54714315j,\n",
       "       0.77491828-0.63206143j, 0.70421909-0.70998273j,\n",
       "       0.62572411-0.78004444j, 0.54030231-0.84147098j])"
      ]
     },
     "execution_count": 24,
     "metadata": {},
     "output_type": "execute_result"
    }
   ],
   "source": [
    "c1.conjugate()"
   ]
  },
  {
   "cell_type": "markdown",
   "metadata": {},
   "source": [
    "### Example : checking $e^{ix}=\\cos(x)+i\\sin(x)$"
   ]
  },
  {
   "cell_type": "markdown",
   "metadata": {},
   "source": [
    "##### one-line version"
   ]
  },
  {
   "cell_type": "code",
   "execution_count": 25,
   "metadata": {},
   "outputs": [
    {
     "data": {
      "text/plain": [
       "array([ True,  True,  True,  True,  True,  True,  True,  True,  True,\n",
       "        True,  True,  True,  True,  True,  True,  True,  True,  True,\n",
       "        True,  True])"
      ]
     },
     "execution_count": 25,
     "metadata": {},
     "output_type": "execute_result"
    }
   ],
   "source": [
    "np.exp(1j*x) == np.cos(x) + 1j * np.sin(x)"
   ]
  },
  {
   "cell_type": "markdown",
   "metadata": {},
   "source": [
    "##### Checking by part : real & imaginary"
   ]
  },
  {
   "cell_type": "code",
   "execution_count": 26,
   "metadata": {},
   "outputs": [],
   "source": [
    "c1 = np.exp(1j * x)"
   ]
  },
  {
   "cell_type": "code",
   "execution_count": 27,
   "metadata": {},
   "outputs": [
    {
     "data": {
      "text/plain": [
       "array([ True,  True,  True,  True,  True,  True,  True,  True,  True,\n",
       "        True,  True,  True,  True,  True,  True,  True,  True,  True,\n",
       "        True,  True])"
      ]
     },
     "execution_count": 27,
     "metadata": {},
     "output_type": "execute_result"
    }
   ],
   "source": [
    "c1.real == np.cos(x)"
   ]
  },
  {
   "cell_type": "code",
   "execution_count": 28,
   "metadata": {},
   "outputs": [
    {
     "data": {
      "text/plain": [
       "array([ True,  True,  True,  True,  True,  True,  True,  True,  True,\n",
       "        True,  True,  True,  True,  True,  True,  True,  True,  True,\n",
       "        True,  True])"
      ]
     },
     "execution_count": 28,
     "metadata": {},
     "output_type": "execute_result"
    }
   ],
   "source": [
    "c1.imag == np.sin(x)"
   ]
  },
  {
   "cell_type": "markdown",
   "metadata": {},
   "source": [
    "# [TIP] Using `Shift-Tab` to get a function's description\n",
    "- Move cursor to the object that you want to see the description and press `Shift-Tab`\n",
    "- Try and compare: `Shift-Tab`, `Shift-Tab-Tab`, ..., `Shift-Tab-Tab-Tab`"
   ]
  }
 ],
 "metadata": {
  "kernelspec": {
   "display_name": "Python 3",
   "language": "python",
   "name": "python3"
  },
  "language_info": {
   "codemirror_mode": {
    "name": "ipython",
    "version": 3
   },
   "file_extension": ".py",
   "mimetype": "text/x-python",
   "name": "python",
   "nbconvert_exporter": "python",
   "pygments_lexer": "ipython3",
   "version": "3.6.4"
  }
 },
 "nbformat": 4,
 "nbformat_minor": 2
}
