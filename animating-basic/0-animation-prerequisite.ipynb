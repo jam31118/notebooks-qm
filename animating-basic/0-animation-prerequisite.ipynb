{
 "cells": [
  {
   "cell_type": "markdown",
   "metadata": {},
   "source": [
    "# 1. Install 'vis' module"
   ]
  },
  {
   "cell_type": "markdown",
   "metadata": {},
   "source": [
    "It can be done by entering \n",
    "```python\n",
    "pip install vis\n",
    "```\n",
    "at any environment that has 'pip' program (e.g. Anaconda console)"
   ]
  },
  {
   "cell_type": "markdown",
   "metadata": {},
   "source": [
    "# 2. Get 'ffmpeg'"
   ]
  },
  {
   "cell_type": "markdown",
   "metadata": {},
   "source": [
    "### 2.1 Download 'ffmpeg' from __[here](https://ffmpeg.zeranoe.com/builds/win64/static/ffmpeg-20180321-7e0dc72-win64-static.zip)__ for Windows 64 bit and __[here](https://evermeet.cx/ffmpeg/ffmpeg-3.4.2.7z)__ for Mac OS\n",
    "- For other operating system, just google 'ffmpeg' and go to download page (__[LINK](https://www.ffmpeg.org/download.html)__) where you can find several options.\n",
    "- The downloaded file would be a compressed file (.zip or .7z etc.) \n",
    "- with the filename such as 'ffmpeg-2018XXXX-XXXXXXX-win64-static.zip' or 'ffmpeg-X.X.X.7z'\n",
    "- If you use linux system, you can use your favorite repository to install 'ffmpeg'"
   ]
  },
  {
   "cell_type": "markdown",
   "metadata": {},
   "source": [
    "### 2.2 Unzip the downloaded file\n",
    "- Remember where did you extract the downloaded file\n",
    "- e.g. I extracted to this directory (path) 'C:\\Users\\ahn\\Downloads\\ffmpeg' in Windows"
   ]
  },
  {
   "cell_type": "markdown",
   "metadata": {},
   "source": [
    "### 2.3 Find out the executable file\n",
    "- For Mac OS, there is only one file inside the downloaded file, which what we want.\n",
    "- For Windows, there is a directory with name 'bin', in which you can find 'ffmpeg.exe' (or just 'ffmpeg' if the file extension is hidden)\n",
    "- For Linux, it is usually reside in '/usr/lib/bin' directory. If you had compiled yourself, you'll know where it is."
   ]
  },
  {
   "cell_type": "markdown",
   "metadata": {},
   "source": [
    "### 2.4 Note where is your 'ffmpeg' executable program\n",
    "- e.g. In Windows, if you have extracted the downloaded zip file at 'C:\\Users\\username\\Downloads\\ffmpeg'\n",
    "- then, the ffmpeg program's path (address, so to say) will be 'C:\\Users\\username\\Downloads\\ffmpeg\\bin\\ffmpeg.exe'\n",
    "- e.g. For Mac OS, if you have extracted the downloaded 7z file at '/Users/yourname/'\n",
    "- then, the ffmpge program's path will be '/Users/yourname/ffmpeg'"
   ]
  }
 ],
 "metadata": {
  "kernelspec": {
   "display_name": "Python 3",
   "language": "python",
   "name": "python3"
  },
  "language_info": {
   "codemirror_mode": {
    "name": "ipython",
    "version": 3
   },
   "file_extension": ".py",
   "mimetype": "text/x-python",
   "name": "python",
   "nbconvert_exporter": "python",
   "pygments_lexer": "ipython3",
   "version": "3.6.0"
  }
 },
 "nbformat": 4,
 "nbformat_minor": 2
}
